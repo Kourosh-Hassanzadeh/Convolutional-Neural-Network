{
 "cells": [
  {
   "cell_type": "code",
   "execution_count": 128,
   "metadata": {},
   "outputs": [],
   "source": [
    "from typing import List\n",
    "from torchvision import transforms, models, datasets\n",
    "import torch \n",
    "from torch.utils.data import DataLoader, Subset, random_split, ConcatDataset\n",
    "import numpy as np \n",
    "import random \n",
    "from os.path import exists\n",
    "import os \n",
    "from typing import List, Dict, Tuple\n",
    "import seaborn as sns\n",
    "import matplotlib.pyplot as plt\n",
    "from sklearn.metrics import accuracy_score, confusion_matrix\n",
    "from sklearn.metrics import ConfusionMatrixDisplay\n",
    "from sklearn.utils.multiclass import unique_labels\n",
    "from sklearn.metrics import accuracy_score, confusion_matrix\n",
    "import torch.nn as nn\n",
    "from torch.functional import F\n",
    "from tqdm import trange\n",
    "import copy"
   ]
  },
  {
   "cell_type": "code",
   "execution_count": 129,
   "metadata": {},
   "outputs": [],
   "source": [
    "def get_oxford_splits(\n",
    "    batch_size: int,\n",
    "    data_loader_seed: int = 111, \n",
    "    pin_memory: bool = False,\n",
    "    num_workers: int = 1,\n",
    "    ): \n",
    "    K = 5\n",
    "    num_support = 80\n",
    "    num_query = 20 \n",
    "\n",
    "    def seed_worker(worker_id):\n",
    "        # worker_seed = torch.initial_seed() % 2 ** 32\n",
    "        np.random.seed(data_loader_seed)\n",
    "        random.seed(data_loader_seed)\n",
    "    g = torch.Generator()\n",
    "    g.manual_seed(data_loader_seed)\n",
    "\n",
    "    support_classes = list(np.arange(num_support))\n",
    "    query_classes = list(np.arange(num_query) + num_support)\n",
    "\n",
    "    img_dim = 64\n",
    "\n",
    "    train_transforms = transforms.Compose([\n",
    "        transforms.Resize((img_dim, img_dim)),\n",
    "        transforms.RandomHorizontalFlip(),\n",
    "        transforms.ToTensor(),\n",
    "        transforms.Normalize([0.485, 0.456, 0.406],[0.229, 0.224, 0.225])])\n",
    "    test_transforms = transforms.Compose([\n",
    "        transforms.Resize((img_dim, img_dim)),\n",
    "        transforms.ToTensor(),\n",
    "        transforms.Normalize([0.485, 0.456, 0.406],[0.229, 0.224, 0.225])])\n",
    "    validation_transforms = transforms.Compose([\n",
    "        transforms.Resize((img_dim, img_dim)),\n",
    "        transforms.ToTensor(),\n",
    "        transforms.Normalize([0.485, 0.456, 0.406],[0.229, 0.224, 0.225])])\n",
    "    \n",
    "    data_path = f'/home/hesam/projects/Phase4/dataset'\n",
    "\n",
    "    train_ds_full = datasets.Flowers102(root=data_path, split=\"train\", download=True, transform=train_transforms)\n",
    "    val_ds_full = datasets.Flowers102(root=data_path, split=\"val\", download=True, transform=validation_transforms)\n",
    "    test_ds_full = datasets.Flowers102(root=data_path, split=\"test\", download=True, transform=test_transforms)\n",
    "\n",
    "    train_indxs_support = torch.where(torch.isin(torch.tensor(train_ds_full._labels), torch.asarray(support_classes)))[0]\n",
    "    val_indxs_support = torch.where(torch.isin(torch.tensor(val_ds_full._labels), torch.asarray(support_classes)))[0]\n",
    "    test_indxs_support = torch.where(torch.isin(torch.tensor(test_ds_full._labels), torch.asarray(support_classes)))[0]\n",
    "    \n",
    "    train_ds_subset_support = torch.utils.data.Subset(train_ds_full, train_indxs_support)\n",
    "    val_ds_subset_support = torch.utils.data.Subset(val_ds_full, val_indxs_support)\n",
    "    test_ds_subset_support = torch.utils.data.Subset(test_ds_full, test_indxs_support)\n",
    "\n",
    "    merged_dataset = ConcatDataset([train_ds_subset_support, val_ds_subset_support, test_ds_subset_support])\n",
    "    ### A, B\n",
    "    train_ds_support, test_ds_support = torch.utils.data.random_split(merged_dataset, [0.75, 0.25], generator=torch.Generator().manual_seed(42))\n",
    "    ### \n",
    "\n",
    "    train_indxs_query = torch.where(torch.isin(torch.tensor(train_ds_full._labels), torch.asarray(query_classes)))[0]\n",
    "    N = 10 \n",
    "    starting_indices = np.arange(0, len(train_indxs_query), N)\n",
    "    train_indxs_query = np.hstack([train_indxs_query[i:i+K] for i in starting_indices if i + K <= len(train_indxs_query)])\n",
    "    ### C\n",
    "    train_ds_query = torch.utils.data.Subset(train_ds_full, train_indxs_query) \n",
    "    ###\n",
    "\n",
    "    val_indxs_query = torch.where(torch.isin(torch.tensor(val_ds_full._labels), torch.asarray(query_classes)))[0]\n",
    "    test_indxs_query = torch.where(torch.isin(torch.tensor(test_ds_full._labels), torch.asarray(query_classes)))[0]\n",
    "    val_ds_subset_query = torch.utils.data.Subset(val_ds_full, val_indxs_query)\n",
    "    test_ds_subset_query = torch.utils.data.Subset(test_ds_full, test_indxs_query)\n",
    "    \n",
    "    test_ds_query_full = ConcatDataset([val_ds_subset_query, test_ds_subset_query])\n",
    "    ### D \n",
    "    _, test_ds_query = torch.utils.data.random_split(test_ds_query_full, [0.7, 0.3], generator=torch.Generator().manual_seed(42))\n",
    "    ###\n",
    "    \n",
    "    ### E \n",
    "    test_all = ConcatDataset([test_ds_query, test_ds_support])\n",
    "\n",
    "\n",
    "    A_train_dl = DataLoader(\n",
    "        train_ds_support,\n",
    "        batch_size = batch_size, \n",
    "        shuffle=True, \n",
    "        worker_init_fn=seed_worker,\n",
    "        generator=g,\n",
    "        drop_last=False,\n",
    "        pin_memory=pin_memory,\n",
    "        num_workers=num_workers\n",
    "    )\n",
    "    A_test_dl = DataLoader(\n",
    "        test_ds_support,\n",
    "        batch_size = batch_size, \n",
    "        shuffle=True, \n",
    "        worker_init_fn=seed_worker,\n",
    "        generator=g,\n",
    "        drop_last=False,\n",
    "        pin_memory=pin_memory,\n",
    "        num_workers=num_workers\n",
    "    )\n",
    "\n",
    "    B_train_dl = DataLoader(\n",
    "        train_ds_query,\n",
    "        batch_size = batch_size, \n",
    "        shuffle=True, \n",
    "        worker_init_fn=seed_worker,\n",
    "        generator=g,\n",
    "        drop_last=False,\n",
    "        pin_memory=pin_memory,\n",
    "        num_workers=num_workers\n",
    "    )\n",
    "    B_test_dl = DataLoader(\n",
    "        test_ds_query,\n",
    "        batch_size = batch_size, \n",
    "        shuffle=True, \n",
    "        worker_init_fn=seed_worker,\n",
    "        generator=g,\n",
    "        drop_last=False,\n",
    "        pin_memory=pin_memory,\n",
    "        num_workers=num_workers\n",
    "    )\n",
    "    test_all = DataLoader(\n",
    "        test_all,\n",
    "        batch_size = batch_size, \n",
    "        shuffle=True, \n",
    "        worker_init_fn=seed_worker,\n",
    "        generator=g,\n",
    "        drop_last=False,\n",
    "        pin_memory=pin_memory,\n",
    "        num_workers=num_workers\n",
    "    )\n",
    "    \n",
    "    return A_train_dl, A_test_dl, B_train_dl, B_test_dl, test_all"
   ]
  },
  {
   "cell_type": "code",
   "execution_count": 130,
   "metadata": {},
   "outputs": [],
   "source": [
    "def make_dir(dir_name: str):\n",
    "    \"\"\"\n",
    "    creates directory \"dir_name\" if it doesn't exists\n",
    "    \"\"\"\n",
    "    if not os.path.exists(dir_name):\n",
    "        os.makedirs(dir_name)"
   ]
  },
  {
   "cell_type": "code",
   "execution_count": 131,
   "metadata": {},
   "outputs": [],
   "source": [
    "def plot_conf(labels, preds, title, dir_, name):\n",
    "    \"\"\"\n",
    "    labels: an [N, ] array containing true labels for N samples\n",
    "    preds: an [N, ] array containing predications for N samples\n",
    "    \n",
    "    saves confusion matrix plot of the given prediction and true labels in 'dir_/name.jpg' \n",
    "    \"\"\"\n",
    "\n",
    "    conf = confusion_matrix(labels, preds)\n",
    "    # print(\"count\", torch.unique(preds, return_counts=True))\n",
    "    plt.clf()\n",
    "    cm = conf.astype('float') / conf.sum(axis=1)[:, np.newaxis]\n",
    "    cmap = sns.light_palette(\"navy\", as_cmap=True)\n",
    "    plt.figure(figsize=(20, 20))\n",
    "    sns.heatmap(cm, annot=False, cmap=cmap, fmt=\".2f\", cbar=False)\n",
    "    # plt.title(f'{title}')\n",
    "    # plt.xlabel('Predicted Label')\n",
    "    # plt.ylabel('True Label')\n",
    "    make_dir(dir_)\n",
    "    plt.savefig(f'{dir_}/{name}')"
   ]
  },
  {
   "cell_type": "code",
   "execution_count": 132,
   "metadata": {},
   "outputs": [],
   "source": [
    "A_train_dl, A_test_dl, B_train_dl, B_test_dl, test_all = get_oxford_splits(128)"
   ]
  },
  {
   "cell_type": "code",
   "execution_count": 133,
   "metadata": {},
   "outputs": [],
   "source": [
    "use_gpu = True\n",
    "device = torch.device(\"cuda:0\" if torch.cuda.is_available() and use_gpu else \"cpu\") # New\n"
   ]
  },
  {
   "cell_type": "markdown",
   "metadata": {},
   "source": [
    "#### define network with layers"
   ]
  },
  {
   "cell_type": "code",
   "execution_count": 134,
   "metadata": {},
   "outputs": [],
   "source": [
    "class My_Model(nn.Module):\n",
    "    \n",
    "    def __init__(self) -> None:\n",
    "        super().__init__()\n",
    "        \n",
    "        self.flatten = nn.Flatten()\n",
    "        self.conv1 = nn.Conv2d(in_channels=3, out_channels=64, kernel_size=(3, 3), padding=1, stride=1)\n",
    "        self.bn1 = nn.BatchNorm2d(64)\n",
    "        \n",
    "        self.conv2 = nn.Conv2d(in_channels=64, out_channels=64, kernel_size=(3, 3), padding=1, stride=1)\n",
    "        self.bn2 = nn.BatchNorm2d(64)\n",
    "        \n",
    "        self.conv2_1 = nn.Conv2d(in_channels=64, out_channels=64, kernel_size=(3, 3), padding=1, stride=1)\n",
    "        self.bn2_1 = nn.BatchNorm2d(64)\n",
    "        \n",
    "        self.conv2_2 = nn.Conv2d(in_channels=64, out_channels=64, kernel_size=(3, 3), padding=1, stride=1)\n",
    "        self.bn2_2 = nn.BatchNorm2d(64)\n",
    "        \n",
    "        self.conv2_3 = nn.Conv2d(in_channels=64, out_channels=64, kernel_size=(3, 3), padding=1, stride=1)\n",
    "        self.bn2_3 = nn.BatchNorm2d(64)\n",
    "        \n",
    "        self.pool1 = nn.AvgPool2d(kernel_size=(2, 2))\n",
    "        \n",
    "        self.conv3 = nn.Conv2d(in_channels=64, out_channels=96, kernel_size=(3, 3), padding=1, stride=1)\n",
    "        self.bn3 = nn.BatchNorm2d(96)\n",
    "        \n",
    "        self.conv3_1 = nn.Conv2d(in_channels=96, out_channels=96, kernel_size=(3, 3), padding=1, stride=1)\n",
    "        self.bn3_1 = nn.BatchNorm2d(96)\n",
    "        \n",
    "        self.conv3_2 = nn.Conv2d(in_channels=96, out_channels=96, kernel_size=(3, 3), padding=1, stride=1)\n",
    "        self.bn3_2 = nn.BatchNorm2d(96)\n",
    "        \n",
    "        self.conv3_3 = nn.Conv2d(in_channels=96, out_channels=96, kernel_size=(3, 3), padding=1, stride=1)\n",
    "        self.bn3_3 = nn.BatchNorm2d(96)\n",
    "        \n",
    "        self.pool2 = nn.AvgPool2d(kernel_size=(2, 2))\n",
    "        \n",
    "        self.conv4 = nn.Conv2d(in_channels=96, out_channels=128, kernel_size=(3, 3), padding=1, stride=1)\n",
    "        self.bn4 = nn.BatchNorm2d(128)\n",
    "        \n",
    "        self.conv4_1 = nn.Conv2d(in_channels=128, out_channels=128, kernel_size=(3, 3), padding=1, stride=1)\n",
    "        self.bn4_1 = nn.BatchNorm2d(128)\n",
    "        \n",
    "        self.conv4_2 = nn.Conv2d(in_channels=128, out_channels=128, kernel_size=(3, 3), padding=1, stride=1)\n",
    "        self.bn4_2 = nn.BatchNorm2d(128)\n",
    "        \n",
    "        self.conv4_3 = nn.Conv2d(in_channels=128, out_channels=128, kernel_size=(3, 3), padding=1, stride=1)\n",
    "        self.bn4_3 = nn.BatchNorm2d(128)        \n",
    "        \n",
    "        self.pool3 = nn.AvgPool2d(kernel_size=(2, 2))\n",
    "\n",
    "        self.conv5 = nn.Conv2d(in_channels=128, out_channels=256, kernel_size=(3, 3), padding=1, stride=1)\n",
    "        self.bn5 = nn.BatchNorm2d(256)\n",
    "        \n",
    "        self.conv5_1 = nn.Conv2d(in_channels=256, out_channels=256, kernel_size=(3, 3), padding=1, stride=1)\n",
    "        self.bn5_1 = nn.BatchNorm2d(256)\n",
    "        \n",
    "        self.conv5_2 = nn.Conv2d(in_channels=256, out_channels=256, kernel_size=(3, 3), padding=1, stride=1)\n",
    "        self.bn5_2 = nn.BatchNorm2d(256)\n",
    "        \n",
    "        self.conv5_3 = nn.Conv2d(in_channels=256, out_channels=256, kernel_size=(3, 3), padding=1, stride=1)\n",
    "        self.bn5_3 = nn.BatchNorm2d(256)\n",
    "\n",
    "\n",
    "        self.pool4 = nn.AvgPool2d(kernel_size=(2, 2))\n",
    "        \n",
    "        self.fc1 = nn.Linear(in_features=4096, out_features=80)\n",
    "        \n",
    "    def forward(self, inputs, debug=False):\n",
    "        x1 = self.conv1(inputs)\n",
    "        x1 = self.bn1(x1)\n",
    "        x1 = F.relu(x1)\n",
    "        \n",
    "        x2 = self.conv2(x1)\n",
    "        x2 = self.bn2(x2)\n",
    "        x2 = F.relu(x2)\n",
    "        \n",
    "        x2 = self.conv2_1(x2)\n",
    "        x2 = self.bn2_1(x2)\n",
    "        x2 = F.relu(x2)\n",
    "        \n",
    "        x2 = self.conv2_2(x2)\n",
    "        x2 = self.bn2_2(x2)\n",
    "        x2 = F.relu(x2)\n",
    "        \n",
    "        x2 = self.conv2_3(x2)\n",
    "        x2 = self.bn2_3(x2)\n",
    "        x2 = F.relu(x2)  \n",
    "\n",
    "        x2 = self.pool1(x2)\n",
    "\n",
    "        x3 = self.conv3(x2)\n",
    "        x3 = self.bn3(x3)\n",
    "        x3 = F.relu(x3)\n",
    "        \n",
    "        x3 = self.conv3_1(x3)\n",
    "        x3 = self.bn3_1(x3)\n",
    "        x3 = F.relu(x3)\n",
    "        \n",
    "        x3 = self.conv3_2(x3)\n",
    "        x3 = self.bn3_2(x3)\n",
    "        x3 = F.relu(x3)\n",
    "        \n",
    "        x3 = self.conv3_3(x3)\n",
    "        x3 = self.bn3_3(x3)\n",
    "        x3 = F.relu(x3)\n",
    "    \n",
    "\n",
    "        x3 = self.pool2(x3)\n",
    "\n",
    "        x4 = self.conv4(x3)\n",
    "        x4 = self.bn4(x4)\n",
    "        x4 = F.relu(x4)\n",
    "        \n",
    "        x4 = self.conv4_1(x4)\n",
    "        x4 = self.bn4_1(x4)\n",
    "        x4 = F.relu(x4)\n",
    "        \n",
    "        x4 = self.conv4_2(x4)\n",
    "        x4 = self.bn4_2(x4)\n",
    "        x4 = F.relu(x4)\n",
    "        \n",
    "        x4 = self.conv4_3(x4)\n",
    "        x4 = self.bn4_3(x4)\n",
    "        x4 = F.relu(x4)\n",
    "\n",
    "        x4 = self.pool3(x4)\n",
    "\n",
    "        x5 = self.conv5(x4)\n",
    "        x5 = self.bn5(x5)\n",
    "        x5 = F.relu(x5)\n",
    "        \n",
    "        x5 = self.conv5_1(x5)\n",
    "        x5 = self.bn5_1(x5)\n",
    "        x5 = F.relu(x5)\n",
    "        \n",
    "        x5 = self.conv5_2(x5)\n",
    "        x5 = self.bn5_2(x5)\n",
    "        x5 = F.relu(x5)\n",
    "        \n",
    "        x5 = self.conv5_3(x5)\n",
    "        x5 = self.bn5_3(x5)\n",
    "        x5 = F.relu(x5)\n",
    "  \n",
    "\n",
    "        x6 = self.pool4(x5)\n",
    "        x0 = self.flatten(x6)\n",
    "        outputs = self.fc1(x0)\n",
    "        \n",
    "        if debug:\n",
    "                    print('inputs shape: ', inputs.shape) # inputs in shape [N, C, H, W]\n",
    "                    print('after flattening: ', x0.shape)\n",
    "                    print('Activations after 1st fully connected layer: ', x1.shape)\n",
    "                    print('Activations after 2nd fully connected layer: ', x2.shape)\n",
    "                    print('Output shape: ', outputs.shape)\n",
    "\n",
    "        return outputs\n",
    "       "
   ]
  },
  {
   "cell_type": "code",
   "execution_count": 137,
   "metadata": {},
   "outputs": [],
   "source": [
    "def train_one_epoch(modelIN: nn.Module, optim: torch.optim.Optimizer,\n",
    "         dataloader: DataLoader, loss_fn, freeze_fc=False):\n",
    "\n",
    "    num_samples = len(dataloader.dataset)\n",
    "    num_batches = len(dataloader)\n",
    "    running_corrects = 0\n",
    "    running_loss = 0.0\n",
    "    modelIN.train() #\n",
    "    for batch_indx, (inputs, targets) in enumerate(dataloader): # Get a batch of Data\n",
    "        inputs = inputs.to(device)\n",
    "        targets = targets.to(device)\n",
    "        \n",
    "        outputs = modelIN(inputs) # Forward Pass, [N, 10]\n",
    "        loss = loss_fn(outputs, targets) # Compute Loss\n",
    "\n",
    "        loss.backward() # Compute Gradients\n",
    "        if freeze_fc:\n",
    "            for param in modelIN.fc1.parameters():\n",
    "                param.grad[:80] = 0 \n",
    "            \n",
    "        optim.step() # Update parameters\n",
    "        optim.zero_grad() # zero the parameter's \n",
    "\n",
    "        _, preds = torch.max(outputs, dim=1) # Explain, [N]\n",
    "        # print(\"pred\", preds, targets)\n",
    "        running_corrects += torch.sum(preds == targets)\n",
    "        running_loss += loss.item()\n",
    "\n",
    "    epoch_acc = (running_corrects / num_samples) * 100\n",
    "    epoch_loss = (running_loss / num_batches)\n",
    "\n",
    "    return epoch_acc, epoch_loss"
   ]
  },
  {
   "cell_type": "code",
   "execution_count": 138,
   "metadata": {},
   "outputs": [],
   "source": [
    "count = 0"
   ]
  },
  {
   "cell_type": "code",
   "execution_count": 139,
   "metadata": {},
   "outputs": [],
   "source": [
    "def test_model(modelIN: nn.Module,\n",
    "         dataloader: DataLoader, loss_fn, dir, cpu=False, cm=False):\n",
    "\n",
    "    # utils\n",
    "    num_samples = len(dataloader.dataset)\n",
    "    num_batches = len(dataloader)\n",
    "    running_corrects = 0\n",
    "    running_loss = 0.0\n",
    "    predictions = []\n",
    "    labels = []\n",
    "    modelIN.eval() # you must call `model.eval()` to set dropout and batch normalization layers to evaluation mode before running inference.\n",
    "    with torch.no_grad(): # explain\n",
    "        # more on torch.no_grad(): https://pytorch.org/tutorials/beginner/basics/autogradqs_tutorial.html#disabling-gradient-tracking\n",
    "\n",
    "        for batch_indx, (inputs, targets) in enumerate(dataloader): # Get a batch of Data\n",
    "            if cpu:\n",
    "                inputs = inputs.to(\"cpu\")\n",
    "                targets = targets.to(\"cpu\")\n",
    "            else:\n",
    "                inputs = inputs.to(device)\n",
    "                targets = targets.to(device)\n",
    "            \n",
    "            outputs = modelIN(inputs) # Forward Pass\n",
    "            loss = loss_fn(outputs, targets) # Compute Loss\n",
    "\n",
    "            # loss.backward() # Compute Gradients\n",
    "            # optim.step() # Update parameters\n",
    "            # optim.zero_grad() # zero the parameter's gradients\n",
    "\n",
    "            _, preds = torch.max(outputs, 1) #\n",
    "            running_corrects += torch.sum(preds == targets)\n",
    "            running_loss += loss.item()\n",
    "            predictions.append(preds.cpu())\n",
    "            labels.append(targets.cpu())\n",
    "    # cm flag to plot the cofussion matrix\n",
    "    if cm:\n",
    "        global count\n",
    "        count += 1\n",
    "        predictions = np.concatenate(predictions, axis=0).flatten()\n",
    "        labels = np.concatenate(labels, axis=0).flatten()\n",
    "        plot_conf(labels, predictions, title=\"CM\", dir_=dir, name=f\"confusion_matrix-{count}\")\n",
    "    test_acc = (running_corrects / num_samples) * 100\n",
    "    test_loss = (running_loss / num_batches)\n",
    "\n",
    "    return test_acc, test_loss"
   ]
  },
  {
   "cell_type": "code",
   "execution_count": 140,
   "metadata": {},
   "outputs": [],
   "source": [
    "def custom_plot_training_stats(\n",
    "        acc_hist,\n",
    "        loss_hist,\n",
    "        phase_list,\n",
    "        title: str,\n",
    "        dir: str,\n",
    "        index : int,\n",
    "        name: str = 'acc_loss'\n",
    "        ):\n",
    "    fig, (ax1, ax2) = plt.subplots(nrows = 1, ncols = 2, figsize=[14, 6], dpi=100)\n",
    "\n",
    "    for phase in phase_list:\n",
    "\n",
    "        lowest_loss_x = np.argmin(np.array(loss_hist[phase]))\n",
    "        lowest_loss_y = loss_hist[phase][lowest_loss_x]\n",
    "\n",
    "        ax1.annotate(\"{:.4f}\".format(lowest_loss_y), [lowest_loss_x, lowest_loss_y])\n",
    "        ax1.plot(loss_hist[phase], '-x', label=f'{phase} loss', markevery = [lowest_loss_x])\n",
    "\n",
    "        ax1.set_xlabel(xlabel='epochs')\n",
    "        ax1.set_ylabel(ylabel='loss')\n",
    "\n",
    "        ax1.grid(color = 'green', linestyle = '--', linewidth = 0.5, alpha=0.75)\n",
    "        ax1.legend()\n",
    "        ax1.label_outer()\n",
    "\n",
    "    # acc:\n",
    "    for phase in phase_list:\n",
    "        highest_acc_x = np.argmax(np.array(acc_hist[phase]))\n",
    "        highest_acc_y = acc_hist[phase][highest_acc_x]\n",
    "\n",
    "        ax2.annotate(\"{:.4f}\".format(highest_acc_y), [highest_acc_x, highest_acc_y])\n",
    "        ax2.plot(acc_hist[phase], '-x', label=f'{phase} acc', markevery = [highest_acc_x])\n",
    "\n",
    "        ax2.set_xlabel(xlabel='epochs')\n",
    "        ax2.set_ylabel(ylabel='acc')\n",
    "\n",
    "        ax2.grid(color = 'green', linestyle = '--', linewidth = 0.5, alpha=0.75)\n",
    "        ax2.legend()\n",
    "        #ax2.label_outer()\n",
    "\n",
    "    fig.suptitle(f'{title}')\n",
    "\n",
    "    plt.savefig(f'chart/{name}-{index}.jpg')\n",
    "    plt.clf()"
   ]
  },
  {
   "cell_type": "code",
   "execution_count": 141,
   "metadata": {},
   "outputs": [],
   "source": [
    "def run(train_data, test_data, input_model, index, epochs, lr, test=False, freeze_fc=False, cpu=False, cm=False, dir=None):\n",
    "    batch_size = 32\n",
    "    num_epochs = epochs\n",
    "    learning_rate = lr\n",
    "    \n",
    "    model = input_model\n",
    "    model = model.to(device)\n",
    "\n",
    "    optimizer = torch.optim.Adam(model.parameters(), lr=learning_rate)\n",
    "    cross_entropy = nn.CrossEntropyLoss()\n",
    "\n",
    "    acc_history = {'train': [], 'test': []}\n",
    "    loss_history = {'train': [], 'test': []}\n",
    "\n",
    "    for epoch in trange(num_epochs):\n",
    "        if not test:\n",
    "            train_acc, train_loss = train_one_epoch(modelIN=model, optim=optimizer, dataloader=train_data, loss_fn=cross_entropy, freeze_fc=freeze_fc)\n",
    "            print(\"train: \", train_acc.cpu(), train_loss)\n",
    "            acc_history['train'].append(train_acc.cpu())\n",
    "            loss_history['train'].append(train_loss)\n",
    "        test_acc, test_loss = test_model(modelIN=model, dataloader=test_data, loss_fn=cross_entropy, dir=dir, cpu=cpu, cm=cm)\n",
    "        print(\"test: \", test_acc.cpu(), test_loss)\n",
    "        acc_history['test'].append(test_acc.cpu())\n",
    "        loss_history['test'].append(test_loss)\n",
    "        \n",
    "    custom_plot_training_stats(acc_history, loss_history, ['train', 'test'], title='demp', dir='demo_plots', index=index)\n"
   ]
  },
  {
   "cell_type": "markdown",
   "metadata": {},
   "source": [
    "#### train the original model"
   ]
  },
  {
   "cell_type": "code",
   "execution_count": 142,
   "metadata": {},
   "outputs": [
    {
     "name": "stderr",
     "output_type": "stream",
     "text": [
      "  0%|          | 0/90 [00:00<?, ?it/s]"
     ]
    },
    {
     "name": "stdout",
     "output_type": "stream",
     "text": [
      "train:  tensor(13.6669) 3.7138580438253044\n"
     ]
    },
    {
     "name": "stderr",
     "output_type": "stream",
     "text": [
      "  1%|          | 1/90 [00:14<21:04, 14.20s/it]"
     ]
    },
    {
     "name": "stdout",
     "output_type": "stream",
     "text": [
      "test:  tensor(7.2172) 4.1654169376079855\n",
      "train:  tensor(31.1241) 2.777406273661433\n"
     ]
    },
    {
     "name": "stderr",
     "output_type": "stream",
     "text": [
      "  2%|▏         | 2/90 [00:27<19:37, 13.38s/it]"
     ]
    },
    {
     "name": "stdout",
     "output_type": "stream",
     "text": [
      "test:  tensor(34.6554) 2.547719258528489\n",
      "train:  tensor(43.0583) 2.230035443563719\n"
     ]
    },
    {
     "name": "stderr",
     "output_type": "stream",
     "text": [
      "  3%|▎         | 3/90 [00:39<19:02, 13.13s/it]"
     ]
    },
    {
     "name": "stdout",
     "output_type": "stream",
     "text": [
      "test:  tensor(41.4174) 2.277535080909729\n",
      "train:  tensor(52.0684) 1.828755572035506\n"
     ]
    },
    {
     "name": "stderr",
     "output_type": "stream",
     "text": [
      "  4%|▍         | 4/90 [00:52<18:36, 12.98s/it]"
     ]
    },
    {
     "name": "stdout",
     "output_type": "stream",
     "text": [
      "test:  tensor(48.8947) 1.9947178638898408\n",
      "train:  tensor(59.6708) 1.5474707274823576\n"
     ]
    },
    {
     "name": "stderr",
     "output_type": "stream",
     "text": [
      "  6%|▌         | 5/90 [01:05<18:17, 12.91s/it]"
     ]
    },
    {
     "name": "stdout",
     "output_type": "stream",
     "text": [
      "test:  tensor(48.5046) 1.9408813623281627\n",
      "train:  tensor(64.5657) 1.343338206007674\n"
     ]
    },
    {
     "name": "stderr",
     "output_type": "stream",
     "text": [
      "  7%|▋         | 6/90 [01:18<17:59, 12.85s/it]"
     ]
    },
    {
     "name": "stdout",
     "output_type": "stream",
     "text": [
      "test:  tensor(52.7958) 1.626639696267935\n",
      "train:  tensor(70.6303) 1.131878846400493\n"
     ]
    },
    {
     "name": "stderr",
     "output_type": "stream",
     "text": [
      "  8%|▊         | 7/90 [01:30<17:38, 12.76s/it]"
     ]
    },
    {
     "name": "stdout",
     "output_type": "stream",
     "text": [
      "test:  tensor(54.9415) 1.640696488893949\n",
      "train:  tensor(75.3303) 0.9667833544112541\n"
     ]
    },
    {
     "name": "stderr",
     "output_type": "stream",
     "text": [
      "  9%|▉         | 8/90 [01:43<17:20, 12.68s/it]"
     ]
    },
    {
     "name": "stdout",
     "output_type": "stream",
     "text": [
      "test:  tensor(61.5085) 1.3236527030284588\n",
      "train:  tensor(79.4455) 0.8600353453610394\n"
     ]
    },
    {
     "name": "stderr",
     "output_type": "stream",
     "text": [
      " 10%|█         | 9/90 [01:55<17:07, 12.68s/it]"
     ]
    },
    {
     "name": "stdout",
     "output_type": "stream",
     "text": [
      "test:  tensor(59.4278) 1.5195385676163893\n",
      "train:  tensor(81.4598) 0.7651099031035965\n"
     ]
    },
    {
     "name": "stderr",
     "output_type": "stream",
     "text": [
      " 11%|█         | 10/90 [02:08<16:55, 12.70s/it]"
     ]
    },
    {
     "name": "stdout",
     "output_type": "stream",
     "text": [
      "test:  tensor(61.8335) 1.367955758021428\n",
      "train:  tensor(83.5824) 0.686224415495589\n"
     ]
    },
    {
     "name": "stderr",
     "output_type": "stream",
     "text": [
      " 12%|█▏        | 11/90 [02:21<16:45, 12.73s/it]"
     ]
    },
    {
     "name": "stdout",
     "output_type": "stream",
     "text": [
      "test:  tensor(62.4187) 1.2991699828551366\n",
      "train:  tensor(88.9755) 0.5309596738299808\n"
     ]
    },
    {
     "name": "stderr",
     "output_type": "stream",
     "text": [
      " 13%|█▎        | 12/90 [02:34<16:32, 12.72s/it]"
     ]
    },
    {
     "name": "stdout",
     "output_type": "stream",
     "text": [
      "test:  tensor(64.6944) 1.5089779266944299\n",
      "train:  tensor(87.9359) 0.5213169866317028\n"
     ]
    },
    {
     "name": "stderr",
     "output_type": "stream",
     "text": [
      " 14%|█▍        | 13/90 [02:46<16:16, 12.69s/it]"
     ]
    },
    {
     "name": "stdout",
     "output_type": "stream",
     "text": [
      "test:  tensor(65.6047) 1.1538860614483173\n",
      "train:  tensor(89.0622) 0.4768502857234027\n"
     ]
    },
    {
     "name": "stderr",
     "output_type": "stream",
     "text": [
      " 16%|█▌        | 14/90 [02:59<16:04, 12.69s/it]"
     ]
    },
    {
     "name": "stdout",
     "output_type": "stream",
     "text": [
      "test:  tensor(59.3628) 1.6532095762399526\n",
      "train:  tensor(90.9898) 0.41119616539091675\n"
     ]
    },
    {
     "name": "stderr",
     "output_type": "stream",
     "text": [
      " 17%|█▋        | 15/90 [03:12<15:55, 12.74s/it]"
     ]
    },
    {
     "name": "stdout",
     "output_type": "stream",
     "text": [
      "test:  tensor(67.2952) 1.102207868718184\n",
      "train:  tensor(94.6285) 0.2986086409639668\n"
     ]
    },
    {
     "name": "stderr",
     "output_type": "stream",
     "text": [
      " 18%|█▊        | 16/90 [03:25<15:43, 12.75s/it]"
     ]
    },
    {
     "name": "stdout",
     "output_type": "stream",
     "text": [
      "test:  tensor(67.6853) 1.0851556223172407\n",
      "train:  tensor(94.3903) 0.3270753259594376\n"
     ]
    },
    {
     "name": "stderr",
     "output_type": "stream",
     "text": [
      " 19%|█▉        | 17/90 [03:38<15:36, 12.83s/it]"
     ]
    },
    {
     "name": "stdout",
     "output_type": "stream",
     "text": [
      "test:  tensor(62.8739) 1.4999559475825384\n",
      "train:  tensor(92.9825) 0.3360032757391801\n"
     ]
    },
    {
     "name": "stderr",
     "output_type": "stream",
     "text": [
      " 20%|██        | 18/90 [03:51<15:25, 12.86s/it]"
     ]
    },
    {
     "name": "stdout",
     "output_type": "stream",
     "text": [
      "test:  tensor(68.0104) 1.0829934500730956\n",
      "train:  tensor(96.5129) 0.20916004277564385\n"
     ]
    },
    {
     "name": "stderr",
     "output_type": "stream",
     "text": [
      " 21%|██        | 19/90 [04:03<15:09, 12.81s/it]"
     ]
    },
    {
     "name": "stdout",
     "output_type": "stream",
     "text": [
      "test:  tensor(69.9610) 1.3651714829298167\n",
      "train:  tensor(97.6175) 0.16965600646830895\n"
     ]
    },
    {
     "name": "stderr",
     "output_type": "stream",
     "text": [
      " 22%|██▏       | 20/90 [04:16<14:58, 12.84s/it]"
     ]
    },
    {
     "name": "stdout",
     "output_type": "stream",
     "text": [
      "test:  tensor(71.0663) 1.1028153942181513\n",
      "train:  tensor(97.1410) 0.19186090617566495\n"
     ]
    },
    {
     "name": "stderr",
     "output_type": "stream",
     "text": [
      " 23%|██▎       | 21/90 [04:29<14:49, 12.89s/it]"
     ]
    },
    {
     "name": "stdout",
     "output_type": "stream",
     "text": [
      "test:  tensor(69.7659) 1.0509891143211951\n",
      "train:  tensor(97.3143) 0.16542889359029564\n"
     ]
    },
    {
     "name": "stderr",
     "output_type": "stream",
     "text": [
      " 24%|██▍       | 22/90 [04:42<14:37, 12.90s/it]"
     ]
    },
    {
     "name": "stdout",
     "output_type": "stream",
     "text": [
      "test:  tensor(71.7165) 0.993669834274512\n",
      "train:  tensor(98.5272) 0.11565570754779352\n"
     ]
    },
    {
     "name": "stderr",
     "output_type": "stream",
     "text": [
      " 26%|██▌       | 23/90 [04:55<14:18, 12.82s/it]"
     ]
    },
    {
     "name": "stdout",
     "output_type": "stream",
     "text": [
      "test:  tensor(72.8869) 0.92861674955258\n",
      "train:  tensor(98.8304) 0.12433601029821344\n"
     ]
    },
    {
     "name": "stderr",
     "output_type": "stream",
     "text": [
      " 27%|██▋       | 24/90 [05:07<14:03, 12.78s/it]"
     ]
    },
    {
     "name": "stdout",
     "output_type": "stream",
     "text": [
      "test:  tensor(66.9701) 1.3296951422324548\n",
      "train:  tensor(96.7295) 0.18559916559103373\n"
     ]
    },
    {
     "name": "stderr",
     "output_type": "stream",
     "text": [
      " 28%|██▊       | 25/90 [05:20<13:49, 12.76s/it]"
     ]
    },
    {
     "name": "stdout",
     "output_type": "stream",
     "text": [
      "test:  tensor(72.9519) 1.1918590710713313\n",
      "train:  tensor(99.0253) 0.10201935157985301\n"
     ]
    },
    {
     "name": "stderr",
     "output_type": "stream",
     "text": [
      " 29%|██▉       | 26/90 [05:33<13:38, 12.79s/it]"
     ]
    },
    {
     "name": "stdout",
     "output_type": "stream",
     "text": [
      "test:  tensor(73.9272) 0.9136667626981552\n",
      "train:  tensor(97.9857) 0.14109106220909068\n"
     ]
    },
    {
     "name": "stderr",
     "output_type": "stream",
     "text": [
      " 30%|███       | 27/90 [05:46<13:24, 12.76s/it]"
     ]
    },
    {
     "name": "stdout",
     "output_type": "stream",
     "text": [
      "test:  tensor(72.1717) 1.0537490477928748\n",
      "train:  tensor(99.4152) 0.07887122296803706\n"
     ]
    },
    {
     "name": "stderr",
     "output_type": "stream",
     "text": [
      " 31%|███       | 28/90 [05:58<13:10, 12.75s/it]"
     ]
    },
    {
     "name": "stdout",
     "output_type": "stream",
     "text": [
      "test:  tensor(70.4811) 1.0400560177289522\n",
      "train:  tensor(95.3216) 0.22604145894984942\n"
     ]
    },
    {
     "name": "stderr",
     "output_type": "stream",
     "text": [
      " 32%|███▏      | 29/90 [06:11<12:57, 12.74s/it]"
     ]
    },
    {
     "name": "stdout",
     "output_type": "stream",
     "text": [
      "test:  tensor(72.4317) 1.0332441559204688\n",
      "train:  tensor(99.1986) 0.07858444267028086\n"
     ]
    },
    {
     "name": "stderr",
     "output_type": "stream",
     "text": [
      " 33%|███▎      | 30/90 [06:24<12:56, 12.94s/it]"
     ]
    },
    {
     "name": "stdout",
     "output_type": "stream",
     "text": [
      "test:  tensor(72.4317) 0.9959044800354884\n",
      "train:  tensor(99.3719) 0.07036752797461845\n"
     ]
    },
    {
     "name": "stderr",
     "output_type": "stream",
     "text": [
      " 34%|███▍      | 31/90 [06:38<12:45, 12.98s/it]"
     ]
    },
    {
     "name": "stdout",
     "output_type": "stream",
     "text": [
      "test:  tensor(73.1469) 0.9720059922681406\n",
      "train:  tensor(98.9387) 0.10496648521842183\n"
     ]
    },
    {
     "name": "stderr",
     "output_type": "stream",
     "text": [
      " 36%|███▌      | 32/90 [06:51<12:34, 13.01s/it]"
     ]
    },
    {
     "name": "stdout",
     "output_type": "stream",
     "text": [
      "test:  tensor(72.4967) 0.9388530121113245\n",
      "train:  tensor(98.4189) 0.10606877999128522\n"
     ]
    },
    {
     "name": "stderr",
     "output_type": "stream",
     "text": [
      " 37%|███▋      | 33/90 [07:03<12:19, 12.97s/it]"
     ]
    },
    {
     "name": "stdout",
     "output_type": "stream",
     "text": [
      "test:  tensor(73.1469) 1.0934610733619103\n",
      "train:  tensor(97.5309) 0.1695399699178902\n"
     ]
    },
    {
     "name": "stderr",
     "output_type": "stream",
     "text": [
      " 38%|███▊      | 34/90 [07:16<12:03, 12.93s/it]"
     ]
    },
    {
     "name": "stdout",
     "output_type": "stream",
     "text": [
      "test:  tensor(66.9051) 1.4270570736664991\n",
      "train:  tensor(93.1341) 0.28509452596709534\n"
     ]
    },
    {
     "name": "stderr",
     "output_type": "stream",
     "text": [
      " 39%|███▉      | 35/90 [07:29<11:49, 12.91s/it]"
     ]
    },
    {
     "name": "stdout",
     "output_type": "stream",
     "text": [
      "test:  tensor(69.3758) 1.158681952036344\n",
      "train:  tensor(98.6138) 0.09742195370632249\n"
     ]
    },
    {
     "name": "stderr",
     "output_type": "stream",
     "text": [
      " 40%|████      | 36/90 [07:42<11:35, 12.89s/it]"
     ]
    },
    {
     "name": "stdout",
     "output_type": "stream",
     "text": [
      "test:  tensor(73.5371) 0.9470580605646739\n",
      "train:  tensor(99.1770) 0.06430270507730343\n"
     ]
    },
    {
     "name": "stderr",
     "output_type": "stream",
     "text": [
      " 41%|████      | 37/90 [07:55<11:21, 12.86s/it]"
     ]
    },
    {
     "name": "stdout",
     "output_type": "stream",
     "text": [
      "test:  tensor(73.9922) 0.9026953400327609\n",
      "train:  tensor(99.9567) 0.028279752797774366\n"
     ]
    },
    {
     "name": "stderr",
     "output_type": "stream",
     "text": [
      " 42%|████▏     | 38/90 [08:08<11:07, 12.84s/it]"
     ]
    },
    {
     "name": "stdout",
     "output_type": "stream",
     "text": [
      "test:  tensor(76.3979) 0.8350235941604927\n",
      "train:  tensor(98.8304) 0.074356256405244\n"
     ]
    },
    {
     "name": "stderr",
     "output_type": "stream",
     "text": [
      " 43%|████▎     | 39/90 [08:20<10:54, 12.83s/it]"
     ]
    },
    {
     "name": "stdout",
     "output_type": "stream",
     "text": [
      "test:  tensor(73.8622) 1.006685353242434\n",
      "train:  tensor(98.8737) 0.08025768545229693\n"
     ]
    },
    {
     "name": "stderr",
     "output_type": "stream",
     "text": [
      " 44%|████▍     | 40/90 [08:34<10:47, 12.95s/it]"
     ]
    },
    {
     "name": "stdout",
     "output_type": "stream",
     "text": [
      "test:  tensor(73.7971) 0.9359503407031298\n",
      "train:  tensor(98.8954) 0.07163764294740316\n"
     ]
    },
    {
     "name": "stderr",
     "output_type": "stream",
     "text": [
      " 46%|████▌     | 41/90 [08:47<10:46, 13.18s/it]"
     ]
    },
    {
     "name": "stdout",
     "output_type": "stream",
     "text": [
      "test:  tensor(73.4720) 0.9860666210834796\n",
      "train:  tensor(99.5018) 0.048723930392313645\n"
     ]
    },
    {
     "name": "stderr",
     "output_type": "stream",
     "text": [
      " 47%|████▋     | 42/90 [09:01<10:35, 13.24s/it]"
     ]
    },
    {
     "name": "stdout",
     "output_type": "stream",
     "text": [
      "test:  tensor(77.0481) 0.8560367547548734\n",
      "train:  tensor(99.8051) 0.02537513051081348\n"
     ]
    },
    {
     "name": "stderr",
     "output_type": "stream",
     "text": [
      " 48%|████▊     | 43/90 [09:13<10:12, 13.02s/it]"
     ]
    },
    {
     "name": "stdout",
     "output_type": "stream",
     "text": [
      "test:  tensor(76.2679) 0.8559430287434504\n",
      "train:  tensor(99.9783) 0.01339249568362091\n"
     ]
    },
    {
     "name": "stderr",
     "output_type": "stream",
     "text": [
      " 49%|████▉     | 44/90 [09:26<09:51, 12.85s/it]"
     ]
    },
    {
     "name": "stdout",
     "output_type": "stream",
     "text": [
      "test:  tensor(76.5930) 0.8442956392581646\n",
      "train:  tensor(99.8267) 0.0225107193848974\n"
     ]
    },
    {
     "name": "stderr",
     "output_type": "stream",
     "text": [
      " 50%|█████     | 45/90 [09:38<09:33, 12.76s/it]"
     ]
    },
    {
     "name": "stdout",
     "output_type": "stream",
     "text": [
      "test:  tensor(76.0728) 0.8360181015271407\n",
      "train:  tensor(99.3935) 0.03940932039876242\n"
     ]
    },
    {
     "name": "stderr",
     "output_type": "stream",
     "text": [
      " 51%|█████     | 46/90 [09:51<09:18, 12.69s/it]"
     ]
    },
    {
     "name": "stdout",
     "output_type": "stream",
     "text": [
      "test:  tensor(75.1625) 1.4906091048167303\n",
      "train:  tensor(99.9350) 0.027703185125279264\n"
     ]
    },
    {
     "name": "stderr",
     "output_type": "stream",
     "text": [
      " 52%|█████▏    | 47/90 [10:03<09:03, 12.63s/it]"
     ]
    },
    {
     "name": "stdout",
     "output_type": "stream",
     "text": [
      "test:  tensor(75.9428) 1.0025635590920081\n",
      "train:  tensor(98.8521) 0.07323419098817818\n"
     ]
    },
    {
     "name": "stderr",
     "output_type": "stream",
     "text": [
      " 53%|█████▎    | 48/90 [10:16<08:51, 12.66s/it]"
     ]
    },
    {
     "name": "stdout",
     "output_type": "stream",
     "text": [
      "test:  tensor(73.6671) 0.9365312557380933\n",
      "train:  tensor(99.7184) 0.05878472204848721\n"
     ]
    },
    {
     "name": "stderr",
     "output_type": "stream",
     "text": [
      " 54%|█████▍    | 49/90 [10:29<08:49, 12.91s/it]"
     ]
    },
    {
     "name": "stdout",
     "output_type": "stream",
     "text": [
      "test:  tensor(60.5332) 1.637481187398617\n",
      "train:  tensor(88.2824) 0.4444113621437872\n"
     ]
    },
    {
     "name": "stderr",
     "output_type": "stream",
     "text": [
      " 56%|█████▌    | 50/90 [10:43<08:42, 13.06s/it]"
     ]
    },
    {
     "name": "stdout",
     "output_type": "stream",
     "text": [
      "test:  tensor(63.9792) 1.4450798401465783\n",
      "train:  tensor(96.1014) 0.16189338166165995\n"
     ]
    },
    {
     "name": "stderr",
     "output_type": "stream",
     "text": [
      " 57%|█████▋    | 51/90 [10:57<08:40, 13.35s/it]"
     ]
    },
    {
     "name": "stdout",
     "output_type": "stream",
     "text": [
      "test:  tensor(73.2120) 0.9493617969699419\n",
      "train:  tensor(98.2240) 0.10132665660332989\n"
     ]
    },
    {
     "name": "stderr",
     "output_type": "stream",
     "text": [
      " 58%|█████▊    | 52/90 [11:09<08:17, 13.10s/it]"
     ]
    },
    {
     "name": "stdout",
     "output_type": "stream",
     "text": [
      "test:  tensor(74.1222) 1.0286013575700612\n",
      "train:  tensor(99.4369) 0.05271259936931971\n"
     ]
    },
    {
     "name": "stderr",
     "output_type": "stream",
     "text": [
      " 59%|█████▉    | 53/90 [11:22<07:56, 12.89s/it]"
     ]
    },
    {
     "name": "stdout",
     "output_type": "stream",
     "text": [
      "test:  tensor(74.9025) 1.072484314441681\n",
      "train:  tensor(98.1806) 0.10377411826236828\n"
     ]
    },
    {
     "name": "stderr",
     "output_type": "stream",
     "text": [
      " 60%|██████    | 54/90 [11:35<07:42, 12.86s/it]"
     ]
    },
    {
     "name": "stdout",
     "output_type": "stream",
     "text": [
      "test:  tensor(73.2770) 1.0450071738316462\n",
      "train:  tensor(97.0760) 0.12853241278915792\n"
     ]
    },
    {
     "name": "stderr",
     "output_type": "stream",
     "text": [
      " 61%|██████    | 55/90 [11:49<07:42, 13.21s/it]"
     ]
    },
    {
     "name": "stdout",
     "output_type": "stream",
     "text": [
      "test:  tensor(73.6671) 1.1885017569248493\n",
      "train:  tensor(99.1336) 0.05474364306979083\n"
     ]
    },
    {
     "name": "stderr",
     "output_type": "stream",
     "text": [
      " 62%|██████▏   | 56/90 [12:05<08:04, 14.24s/it]"
     ]
    },
    {
     "name": "stdout",
     "output_type": "stream",
     "text": [
      "test:  tensor(75.8778) 1.1625387439360986\n",
      "train:  tensor(99.9350) 0.015054259499585306\n"
     ]
    },
    {
     "name": "stderr",
     "output_type": "stream",
     "text": [
      " 63%|██████▎   | 57/90 [12:19<07:49, 14.22s/it]"
     ]
    },
    {
     "name": "stdout",
     "output_type": "stream",
     "text": [
      "test:  tensor(77.9584) 0.8245829701996766\n",
      "train:  tensor(99.9567) 0.011592040404778075\n"
     ]
    },
    {
     "name": "stderr",
     "output_type": "stream",
     "text": [
      " 64%|██████▍   | 58/90 [12:36<07:53, 14.80s/it]"
     ]
    },
    {
     "name": "stdout",
     "output_type": "stream",
     "text": [
      "test:  tensor(77.6983) 1.185708252283243\n",
      "train:  tensor(99.9134) 0.011550282077813471\n"
     ]
    },
    {
     "name": "stderr",
     "output_type": "stream",
     "text": [
      " 66%|██████▌   | 59/90 [12:49<07:28, 14.46s/it]"
     ]
    },
    {
     "name": "stdout",
     "output_type": "stream",
     "text": [
      "test:  tensor(77.5683) 0.8446027951744887\n",
      "train:  tensor(99.9350) 0.024133913810490758\n"
     ]
    },
    {
     "name": "stderr",
     "output_type": "stream",
     "text": [
      " 67%|██████▋   | 60/90 [13:03<07:03, 14.11s/it]"
     ]
    },
    {
     "name": "stdout",
     "output_type": "stream",
     "text": [
      "test:  tensor(75.0975) 0.9268425519649799\n",
      "train:  tensor(98.1590) 0.10876355151570327\n"
     ]
    },
    {
     "name": "stderr",
     "output_type": "stream",
     "text": [
      " 68%|██████▊   | 61/90 [13:18<07:00, 14.49s/it]"
     ]
    },
    {
     "name": "stdout",
     "output_type": "stream",
     "text": [
      "test:  tensor(72.8869) 1.355717842395489\n",
      "train:  tensor(98.6355) 0.07215739162387075\n"
     ]
    },
    {
     "name": "stderr",
     "output_type": "stream",
     "text": [
      " 69%|██████▉   | 62/90 [13:32<06:38, 14.25s/it]"
     ]
    },
    {
     "name": "stdout",
     "output_type": "stream",
     "text": [
      "test:  tensor(75.6177) 0.9125682135614065\n",
      "train:  tensor(99.8267) 0.0206706174271735\n"
     ]
    },
    {
     "name": "stderr",
     "output_type": "stream",
     "text": [
      " 70%|███████   | 63/90 [13:45<06:16, 13.96s/it]"
     ]
    },
    {
     "name": "stdout",
     "output_type": "stream",
     "text": [
      "test:  tensor(75.4226) 0.9011656985833094\n",
      "train:  tensor(99.3719) 0.035902513405056416\n"
     ]
    },
    {
     "name": "stderr",
     "output_type": "stream",
     "text": [
      " 71%|███████   | 64/90 [13:59<06:01, 13.90s/it]"
     ]
    },
    {
     "name": "stdout",
     "output_type": "stream",
     "text": [
      "test:  tensor(75.6177) 0.8883448942349508\n",
      "train:  tensor(99.9567) 0.031944618094712496\n"
     ]
    },
    {
     "name": "stderr",
     "output_type": "stream",
     "text": [
      " 72%|███████▏  | 65/90 [14:12<05:39, 13.60s/it]"
     ]
    },
    {
     "name": "stdout",
     "output_type": "stream",
     "text": [
      "test:  tensor(76.3329) 0.9069565666409639\n",
      "train:  tensor(98.2023) 0.10400046912852574\n"
     ]
    },
    {
     "name": "stderr",
     "output_type": "stream",
     "text": [
      " 73%|███████▎  | 66/90 [14:26<05:30, 13.76s/it]"
     ]
    },
    {
     "name": "stdout",
     "output_type": "stream",
     "text": [
      "test:  tensor(68.2705) 1.3198027060582087\n",
      "train:  tensor(98.1590) 0.10247473992608688\n"
     ]
    },
    {
     "name": "stderr",
     "output_type": "stream",
     "text": [
      " 74%|███████▍  | 67/90 [14:41<05:24, 14.09s/it]"
     ]
    },
    {
     "name": "stdout",
     "output_type": "stream",
     "text": [
      "test:  tensor(73.2770) 1.0142773940013006\n",
      "train:  tensor(99.6535) 0.03218795690131751\n"
     ]
    },
    {
     "name": "stderr",
     "output_type": "stream",
     "text": [
      " 76%|███████▌  | 68/90 [14:55<05:09, 14.09s/it]"
     ]
    },
    {
     "name": "stdout",
     "output_type": "stream",
     "text": [
      "test:  tensor(72.6918) 1.097326086117671\n",
      "train:  tensor(96.9894) 0.14222990832216031\n"
     ]
    },
    {
     "name": "stderr",
     "output_type": "stream",
     "text": [
      " 77%|███████▋  | 69/90 [15:08<04:54, 14.00s/it]"
     ]
    },
    {
     "name": "stdout",
     "output_type": "stream",
     "text": [
      "test:  tensor(74.6424) 0.9870876371860504\n",
      "train:  tensor(99.3502) 0.039603477293575134\n"
     ]
    },
    {
     "name": "stderr",
     "output_type": "stream",
     "text": [
      " 78%|███████▊  | 70/90 [15:23<04:43, 14.16s/it]"
     ]
    },
    {
     "name": "stdout",
     "output_type": "stream",
     "text": [
      "test:  tensor(77.2432) 0.9262764774836026\n",
      "train:  tensor(99.6968) 0.024892290022123505\n"
     ]
    },
    {
     "name": "stderr",
     "output_type": "stream",
     "text": [
      " 79%|███████▉  | 71/90 [15:38<04:32, 14.34s/it]"
     ]
    },
    {
     "name": "stdout",
     "output_type": "stream",
     "text": [
      "test:  tensor(77.9584) 0.9356433428250827\n",
      "train:  tensor(100.) 0.009886012223826067\n"
     ]
    },
    {
     "name": "stderr",
     "output_type": "stream",
     "text": [
      " 80%|████████  | 72/90 [15:52<04:16, 14.25s/it]"
     ]
    },
    {
     "name": "stdout",
     "output_type": "stream",
     "text": [
      "test:  tensor(78.0884) 0.8636644207514249\n",
      "train:  tensor(99.5235) 0.027756949811167008\n"
     ]
    },
    {
     "name": "stderr",
     "output_type": "stream",
     "text": [
      " 81%|████████  | 73/90 [16:07<04:04, 14.39s/it]"
     ]
    },
    {
     "name": "stdout",
     "output_type": "stream",
     "text": [
      "test:  tensor(77.0481) 0.9248877992996802\n",
      "train:  tensor(99.8700) 0.011764458430981313\n"
     ]
    },
    {
     "name": "stderr",
     "output_type": "stream",
     "text": [
      " 82%|████████▏ | 74/90 [16:22<03:54, 14.63s/it]"
     ]
    },
    {
     "name": "stdout",
     "output_type": "stream",
     "text": [
      "test:  tensor(79.1938) 1.0441315815998957\n",
      "train:  tensor(99.9134) 0.020144205540418625\n"
     ]
    },
    {
     "name": "stderr",
     "output_type": "stream",
     "text": [
      " 83%|████████▎ | 75/90 [16:36<03:38, 14.55s/it]"
     ]
    },
    {
     "name": "stdout",
     "output_type": "stream",
     "text": [
      "test:  tensor(75.1625) 0.9377765002158972\n",
      "train:  tensor(96.7728) 0.13187743422600465\n"
     ]
    },
    {
     "name": "stderr",
     "output_type": "stream",
     "text": [
      " 84%|████████▍ | 76/90 [16:50<03:19, 14.26s/it]"
     ]
    },
    {
     "name": "stdout",
     "output_type": "stream",
     "text": [
      "test:  tensor(73.3420) 1.0159879779586425\n",
      "train:  tensor(98.6788) 0.06878877685380143\n"
     ]
    },
    {
     "name": "stderr",
     "output_type": "stream",
     "text": [
      " 86%|████████▌ | 77/90 [17:04<03:04, 14.22s/it]"
     ]
    },
    {
     "name": "stdout",
     "output_type": "stream",
     "text": [
      "test:  tensor(73.9272) 1.000814743196735\n",
      "train:  tensor(98.0074) 0.09566324168967234\n"
     ]
    },
    {
     "name": "stderr",
     "output_type": "stream",
     "text": [
      " 87%|████████▋ | 78/90 [17:17<02:48, 14.05s/it]"
     ]
    },
    {
     "name": "stdout",
     "output_type": "stream",
     "text": [
      "test:  tensor(73.6021) 0.9799436846604714\n",
      "train:  tensor(99.7401) 0.02739059619253149\n"
     ]
    },
    {
     "name": "stderr",
     "output_type": "stream",
     "text": [
      " 88%|████████▊ | 79/90 [17:32<02:35, 14.15s/it]"
     ]
    },
    {
     "name": "stdout",
     "output_type": "stream",
     "text": [
      "test:  tensor(74.7074) 0.9657036782457278\n",
      "train:  tensor(98.7654) 0.060755516503106906\n"
     ]
    },
    {
     "name": "stderr",
     "output_type": "stream",
     "text": [
      " 89%|████████▉ | 80/90 [17:44<02:16, 13.69s/it]"
     ]
    },
    {
     "name": "stdout",
     "output_type": "stream",
     "text": [
      "test:  tensor(74.2523) 0.9542955747411515\n",
      "train:  tensor(99.8700) 0.01664341276360525\n"
     ]
    },
    {
     "name": "stderr",
     "output_type": "stream",
     "text": [
      " 90%|█████████ | 81/90 [17:57<01:59, 13.33s/it]"
     ]
    },
    {
     "name": "stdout",
     "output_type": "stream",
     "text": [
      "test:  tensor(78.0884) 0.8941660890212426\n",
      "train:  tensor(99.8700) 0.01377656901053883\n"
     ]
    },
    {
     "name": "stderr",
     "output_type": "stream",
     "text": [
      " 91%|█████████ | 82/90 [18:10<01:44, 13.11s/it]"
     ]
    },
    {
     "name": "stdout",
     "output_type": "stream",
     "text": [
      "test:  tensor(77.6333) 0.8895146938470694\n",
      "train:  tensor(99.9350) 0.006999896757455694\n"
     ]
    },
    {
     "name": "stderr",
     "output_type": "stream",
     "text": [
      " 92%|█████████▏| 83/90 [18:22<01:30, 12.96s/it]"
     ]
    },
    {
     "name": "stdout",
     "output_type": "stream",
     "text": [
      "test:  tensor(77.8283) 0.9094048004883987\n",
      "train:  tensor(99.9134) 0.010793028846131387\n"
     ]
    },
    {
     "name": "stderr",
     "output_type": "stream",
     "text": [
      " 93%|█████████▎| 84/90 [18:35<01:17, 12.89s/it]"
     ]
    },
    {
     "name": "stdout",
     "output_type": "stream",
     "text": [
      "test:  tensor(77.9584) 0.8759379148339996\n",
      "train:  tensor(100.) 0.004883966043692183\n"
     ]
    },
    {
     "name": "stderr",
     "output_type": "stream",
     "text": [
      " 94%|█████████▍| 85/90 [18:47<01:03, 12.75s/it]"
     ]
    },
    {
     "name": "stdout",
     "output_type": "stream",
     "text": [
      "test:  tensor(78.9987) 0.8307587178603101\n",
      "train:  tensor(100.) 0.005467076855082367\n"
     ]
    },
    {
     "name": "stderr",
     "output_type": "stream",
     "text": [
      " 96%|█████████▌| 86/90 [19:00<00:50, 12.67s/it]"
     ]
    },
    {
     "name": "stdout",
     "output_type": "stream",
     "text": [
      "test:  tensor(78.8687) 0.9067270893317002\n",
      "train:  tensor(99.5885) 0.017006750558377116\n"
     ]
    },
    {
     "name": "stderr",
     "output_type": "stream",
     "text": [
      " 97%|█████████▋| 87/90 [19:12<00:37, 12.60s/it]"
     ]
    },
    {
     "name": "stdout",
     "output_type": "stream",
     "text": [
      "test:  tensor(77.0481) 0.9300932997766023\n",
      "train:  tensor(100.) 0.0050463350741444405\n"
     ]
    },
    {
     "name": "stderr",
     "output_type": "stream",
     "text": [
      " 98%|█████████▊| 88/90 [19:25<00:25, 12.57s/it]"
     ]
    },
    {
     "name": "stdout",
     "output_type": "stream",
     "text": [
      "test:  tensor(78.2185) 0.8915679454803467\n",
      "train:  tensor(99.9783) 0.003845238557865692\n"
     ]
    },
    {
     "name": "stderr",
     "output_type": "stream",
     "text": [
      " 99%|█████████▉| 89/90 [19:37<00:12, 12.56s/it]"
     ]
    },
    {
     "name": "stdout",
     "output_type": "stream",
     "text": [
      "test:  tensor(78.6086) 1.0168933547460115\n",
      "train:  tensor(99.9567) 0.00510461103938822\n"
     ]
    },
    {
     "name": "stderr",
     "output_type": "stream",
     "text": [
      "100%|██████████| 90/90 [19:50<00:00, 13.23s/it]"
     ]
    },
    {
     "name": "stdout",
     "output_type": "stream",
     "text": [
      "test:  tensor(77.2432) 0.8935288511789762\n"
     ]
    },
    {
     "name": "stderr",
     "output_type": "stream",
     "text": [
      "\n"
     ]
    },
    {
     "data": {
      "text/plain": [
       "<Figure size 1400x600 with 0 Axes>"
      ]
     },
     "metadata": {},
     "output_type": "display_data"
    }
   ],
   "source": [
    "my_model = My_Model()\n",
    "run(A_train_dl, A_test_dl, my_model, 1, 90, 0.0001)"
   ]
  },
  {
   "cell_type": "markdown",
   "metadata": {},
   "source": [
    "##### check the weight of model before training"
   ]
  },
  {
   "cell_type": "code",
   "execution_count": 144,
   "metadata": {},
   "outputs": [
    {
     "data": {
      "text/plain": [
       "Parameter containing:\n",
       "tensor([[[[-4.1152e-02,  2.7552e-02,  2.3232e-02],\n",
       "          [-5.0019e-02, -3.7431e-02,  2.7063e-02],\n",
       "          [ 4.6284e-03, -4.1788e-02,  3.4469e-02]],\n",
       "\n",
       "         [[ 1.0118e-03, -3.1182e-02, -1.6825e-02],\n",
       "          [-3.5135e-02, -4.1477e-02,  4.8241e-03],\n",
       "          [ 1.6821e-02, -2.0892e-02, -2.0368e-02]],\n",
       "\n",
       "         [[ 2.6120e-02, -2.7894e-02, -1.2092e-02],\n",
       "          [ 1.3028e-02, -3.5441e-02, -1.2177e-02],\n",
       "          [-3.2591e-02, -2.6870e-02,  3.9030e-02]],\n",
       "\n",
       "         ...,\n",
       "\n",
       "         [[ 2.6396e-02,  3.2726e-02,  7.4274e-03],\n",
       "          [-8.5307e-03, -2.7306e-02, -3.1041e-02],\n",
       "          [-1.1025e-02, -1.9495e-02,  2.3737e-02]],\n",
       "\n",
       "         [[-2.6593e-02,  3.9382e-02, -8.3937e-03],\n",
       "          [-3.1704e-02, -6.0318e-03,  5.3831e-03],\n",
       "          [-4.7803e-02, -4.3978e-02,  5.3610e-06]],\n",
       "\n",
       "         [[-3.1691e-02,  1.3603e-03, -2.7139e-03],\n",
       "          [ 1.4907e-02, -1.9542e-03,  8.6123e-05],\n",
       "          [-7.5084e-03, -3.1214e-03,  1.3781e-02]]],\n",
       "\n",
       "\n",
       "        [[[-1.7927e-02,  1.9769e-02,  4.2579e-02],\n",
       "          [-2.8930e-02,  3.5981e-02,  2.0820e-02],\n",
       "          [ 2.9548e-02,  1.2944e-02,  3.2133e-02]],\n",
       "\n",
       "         [[-1.5885e-02,  2.7101e-02, -3.7205e-02],\n",
       "          [-2.7906e-02, -2.6715e-02, -4.2951e-02],\n",
       "          [ 2.2266e-02, -2.1095e-02, -2.9928e-02]],\n",
       "\n",
       "         [[ 1.3680e-02,  2.5411e-02, -1.1294e-02],\n",
       "          [ 4.3585e-03, -3.0820e-02, -5.8023e-03],\n",
       "          [-4.2573e-02, -7.3253e-03,  1.9332e-02]],\n",
       "\n",
       "         ...,\n",
       "\n",
       "         [[-6.1171e-03,  4.9137e-03, -6.9265e-03],\n",
       "          [ 8.4347e-03,  2.0015e-02, -1.3653e-02],\n",
       "          [-2.0037e-02,  6.1073e-03, -1.5484e-02]],\n",
       "\n",
       "         [[-4.0838e-02,  1.5064e-02,  8.7100e-03],\n",
       "          [ 1.2752e-02,  2.6757e-02,  2.2764e-02],\n",
       "          [-1.7894e-02, -3.8575e-02, -1.2398e-02]],\n",
       "\n",
       "         [[-1.0316e-02,  3.0224e-02,  3.0439e-02],\n",
       "          [-3.5044e-02, -9.6225e-03, -1.2402e-02],\n",
       "          [ 1.5240e-02, -2.3387e-03, -2.0356e-02]]],\n",
       "\n",
       "\n",
       "        [[[-3.3024e-02,  1.7822e-03,  1.5683e-02],\n",
       "          [-2.8512e-02, -1.6244e-02,  3.1097e-02],\n",
       "          [-3.0761e-03, -2.3522e-02, -1.6761e-02]],\n",
       "\n",
       "         [[ 7.3588e-03,  3.6180e-02, -6.3875e-03],\n",
       "          [ 2.1765e-02, -2.0900e-02,  1.6126e-02],\n",
       "          [ 2.7054e-02, -2.6227e-02, -2.3519e-02]],\n",
       "\n",
       "         [[-1.7327e-02,  4.3110e-02,  1.1293e-02],\n",
       "          [ 6.7356e-03, -1.9500e-03,  3.7193e-02],\n",
       "          [-7.7157e-03, -8.4228e-03, -1.3823e-02]],\n",
       "\n",
       "         ...,\n",
       "\n",
       "         [[ 2.6340e-02, -2.4112e-02, -3.3745e-02],\n",
       "          [ 6.3528e-03, -3.6370e-02, -1.9133e-02],\n",
       "          [ 2.3031e-03,  6.1539e-03,  1.6661e-02]],\n",
       "\n",
       "         [[-2.0340e-02,  2.3312e-02,  2.4059e-02],\n",
       "          [-3.3370e-02, -6.7427e-03, -1.0534e-02],\n",
       "          [-2.7578e-02,  2.3654e-02, -2.0710e-03]],\n",
       "\n",
       "         [[-2.8971e-02, -4.0622e-02, -1.7468e-02],\n",
       "          [-3.0773e-02,  1.1268e-02, -6.4800e-03],\n",
       "          [-8.1390e-03,  2.1823e-02, -4.1043e-02]]],\n",
       "\n",
       "\n",
       "        ...,\n",
       "\n",
       "\n",
       "        [[[ 4.1798e-02,  3.3142e-02,  7.8773e-03],\n",
       "          [ 3.0887e-02,  1.3929e-02, -1.4287e-03],\n",
       "          [ 1.0797e-02,  3.6229e-02, -2.8878e-02]],\n",
       "\n",
       "         [[ 1.7388e-02, -3.6152e-03, -3.7886e-03],\n",
       "          [-3.0563e-02,  1.2313e-02, -2.4956e-02],\n",
       "          [ 1.8783e-02, -9.8003e-03,  4.0430e-02]],\n",
       "\n",
       "         [[-5.5371e-03,  3.8516e-02, -3.9180e-03],\n",
       "          [-4.4810e-02, -2.9561e-02,  2.6680e-02],\n",
       "          [ 2.3748e-02,  7.3117e-03,  5.3754e-03]],\n",
       "\n",
       "         ...,\n",
       "\n",
       "         [[-2.9428e-02, -2.6340e-02,  2.2054e-02],\n",
       "          [ 2.9730e-02, -5.8009e-03, -5.3047e-03],\n",
       "          [ 3.6084e-02, -7.5185e-03, -3.1699e-02]],\n",
       "\n",
       "         [[ 1.2368e-02,  1.5588e-02, -2.5278e-02],\n",
       "          [-1.4394e-02,  1.4115e-02,  2.2566e-02],\n",
       "          [ 1.0433e-03,  1.6786e-02,  2.3886e-02]],\n",
       "\n",
       "         [[ 4.0596e-02,  1.2328e-02, -1.7336e-02],\n",
       "          [-2.0097e-02,  2.9363e-02, -2.4195e-02],\n",
       "          [-8.4250e-03, -2.6959e-02,  5.4255e-03]]],\n",
       "\n",
       "\n",
       "        [[[ 2.7258e-02,  2.7796e-02, -1.6095e-02],\n",
       "          [-2.6054e-02,  1.3141e-02,  2.5235e-02],\n",
       "          [-7.9006e-03,  3.8223e-02,  4.3607e-02]],\n",
       "\n",
       "         [[ 1.5138e-02,  3.9561e-02,  4.1891e-02],\n",
       "          [-2.4602e-03,  1.7972e-02,  2.3584e-02],\n",
       "          [-4.1960e-02, -2.3770e-02,  1.2725e-02]],\n",
       "\n",
       "         [[ 9.2981e-03,  5.3241e-03,  1.2143e-02],\n",
       "          [-3.0065e-02,  3.3773e-02,  7.1717e-03],\n",
       "          [-1.9828e-02,  2.5148e-02, -3.4423e-02]],\n",
       "\n",
       "         ...,\n",
       "\n",
       "         [[ 3.2248e-02,  6.1538e-04, -2.2209e-02],\n",
       "          [ 2.5077e-02,  4.1875e-02, -2.2660e-02],\n",
       "          [-2.9481e-02,  3.1082e-02, -2.2682e-02]],\n",
       "\n",
       "         [[-3.4959e-02, -3.5225e-02, -2.6719e-02],\n",
       "          [ 3.5259e-02,  2.5490e-02,  4.2372e-02],\n",
       "          [-2.8054e-02, -2.4147e-02,  2.4567e-02]],\n",
       "\n",
       "         [[ 2.4805e-02,  2.7038e-03,  1.5714e-02],\n",
       "          [ 3.8899e-02, -1.6341e-02,  2.2990e-02],\n",
       "          [ 1.0451e-04,  2.6058e-02,  1.6108e-02]]],\n",
       "\n",
       "\n",
       "        [[[ 2.6657e-03,  2.1839e-02,  3.7075e-02],\n",
       "          [-1.3293e-02, -4.4909e-03, -2.2827e-02],\n",
       "          [-4.3800e-02, -9.6556e-03, -2.1198e-02]],\n",
       "\n",
       "         [[-3.5446e-03,  3.3068e-02,  4.0417e-02],\n",
       "          [ 2.1795e-02,  2.2783e-02, -1.0170e-02],\n",
       "          [-3.3479e-02,  1.0387e-02, -2.7937e-02]],\n",
       "\n",
       "         [[-1.6987e-02, -1.9597e-02, -3.3245e-02],\n",
       "          [ 2.1724e-02,  2.5638e-02, -2.3514e-02],\n",
       "          [-9.4009e-03,  1.2474e-03,  8.2479e-03]],\n",
       "\n",
       "         ...,\n",
       "\n",
       "         [[ 2.9108e-02, -6.7179e-03, -1.3704e-03],\n",
       "          [ 1.8228e-02,  4.9506e-03,  1.4639e-02],\n",
       "          [-3.3055e-02, -3.0774e-02, -2.6141e-02]],\n",
       "\n",
       "         [[-3.4515e-02,  6.6095e-03,  3.9191e-02],\n",
       "          [ 2.3768e-02, -2.7947e-02,  1.7745e-02],\n",
       "          [ 7.9634e-05,  3.0291e-02,  1.8947e-02]],\n",
       "\n",
       "         [[-3.8132e-02,  2.6203e-02,  3.2684e-02],\n",
       "          [ 2.5538e-02, -1.3153e-02, -8.3603e-03],\n",
       "          [ 2.8008e-02,  2.4966e-02,  1.9227e-02]]]], device='cuda:0',\n",
       "       requires_grad=True)"
      ]
     },
     "execution_count": 144,
     "metadata": {},
     "output_type": "execute_result"
    }
   ],
   "source": [
    "my_model.conv2_1.weight"
   ]
  },
  {
   "cell_type": "code",
   "execution_count": 145,
   "metadata": {},
   "outputs": [
    {
     "data": {
      "text/plain": [
       "Parameter containing:\n",
       "tensor([[-0.0148, -0.0265, -0.0253,  ...,  0.0032,  0.0118, -0.0070],\n",
       "        [ 0.0125,  0.0121,  0.0150,  ..., -0.0289,  0.0135,  0.0117],\n",
       "        [-0.0210, -0.0359, -0.0215,  ...,  0.0106,  0.0034,  0.0037],\n",
       "        ...,\n",
       "        [ 0.0109,  0.0057, -0.0067,  ...,  0.0134, -0.0179,  0.0016],\n",
       "        [ 0.0017, -0.0018, -0.0309,  ..., -0.0008, -0.0080, -0.0014],\n",
       "        [-0.0366, -0.0081,  0.0072,  ..., -0.0128, -0.0209,  0.0118]],\n",
       "       device='cuda:0', requires_grad=True)"
      ]
     },
     "execution_count": 145,
     "metadata": {},
     "output_type": "execute_result"
    }
   ],
   "source": [
    "my_model.fc1.weight"
   ]
  },
  {
   "cell_type": "markdown",
   "metadata": {},
   "source": [
    "# Phase 2"
   ]
  },
  {
   "cell_type": "markdown",
   "metadata": {},
   "source": [
    "## First Way"
   ]
  },
  {
   "cell_type": "code",
   "execution_count": 146,
   "metadata": {},
   "outputs": [],
   "source": [
    "def transfer_learning(model, freeze=False):\n",
    "    \"\"\"\n",
    "    Perform transfer learning by modifying the given model.\n",
    "\n",
    "    Args:\n",
    "    - model: Pretrained neural network model\n",
    "    - freeze (bool): Flag to freeze the pretrained weights (default is False)\n",
    "\n",
    "    Returns:\n",
    "    - new_model: Modified neural network model for transfer learning\n",
    "    \"\"\"\n",
    "    # Deep copy the model to avoid modifying the original\n",
    "    copyModel = copy.deepcopy(model)\n",
    "    # Create a new model instance\n",
    "    new_model = type(copyModel)()\n",
    "    \n",
    "    # Iterate over child modules of the copied model\n",
    "    for child_name, child_module in copyModel.named_children():\n",
    "        # Exclude certain layers from transfer learning\n",
    "        if child_name not in [\"fc1\", \"output\"]:\n",
    "            new_model.add_module(child_name, child_module)\n",
    "            \n",
    "    # Freeze the pretrained weights if specified\n",
    "    if freeze:\n",
    "        for param in new_model.parameters():\n",
    "            param.requires_grad = False\n",
    "    \n",
    "    # Extract dimensions of input and output layers of the original model\n",
    "    old_input_classes = copyModel.fc1.in_features\n",
    "    new_fc_len = copyModel.fc1.out_features + 20\n",
    "    \n",
    "    # Extract weights and bias from the original fully connected layer\n",
    "    old_weights = copyModel.fc1.weight.data\n",
    "    old_bias = copyModel.fc1.bias.data\n",
    "            \n",
    "    # Create a new fully connected layer with modified dimensions\n",
    "    new_fc = nn.Linear(old_input_classes, new_fc_len)\n",
    "    \n",
    "    # Copy pretrained weights and bias to the new fully connected layer\n",
    "    with torch.no_grad():\n",
    "        new_fc.weight[:80, :old_input_classes].copy_(old_weights)\n",
    "        new_fc.bias[:80].copy_(old_bias)\n",
    "        \n",
    "    # Add the new fully connected layer to the new model\n",
    "    new_model.add_module(\"fc1\", new_fc)\n",
    "    \n",
    "    return new_model"
   ]
  },
  {
   "cell_type": "code",
   "execution_count": 147,
   "metadata": {},
   "outputs": [],
   "source": [
    "newModel1 = transfer_learning(model=my_model)"
   ]
  },
  {
   "cell_type": "markdown",
   "metadata": {},
   "source": [
    "#### weights after transfer"
   ]
  },
  {
   "cell_type": "code",
   "execution_count": 149,
   "metadata": {},
   "outputs": [
    {
     "data": {
      "text/plain": [
       "Parameter containing:\n",
       "tensor([[[[-4.1152e-02,  2.7552e-02,  2.3232e-02],\n",
       "          [-5.0019e-02, -3.7431e-02,  2.7063e-02],\n",
       "          [ 4.6284e-03, -4.1788e-02,  3.4469e-02]],\n",
       "\n",
       "         [[ 1.0118e-03, -3.1182e-02, -1.6825e-02],\n",
       "          [-3.5135e-02, -4.1477e-02,  4.8241e-03],\n",
       "          [ 1.6821e-02, -2.0892e-02, -2.0368e-02]],\n",
       "\n",
       "         [[ 2.6120e-02, -2.7894e-02, -1.2092e-02],\n",
       "          [ 1.3028e-02, -3.5441e-02, -1.2177e-02],\n",
       "          [-3.2591e-02, -2.6870e-02,  3.9030e-02]],\n",
       "\n",
       "         ...,\n",
       "\n",
       "         [[ 2.6396e-02,  3.2726e-02,  7.4274e-03],\n",
       "          [-8.5307e-03, -2.7306e-02, -3.1041e-02],\n",
       "          [-1.1025e-02, -1.9495e-02,  2.3737e-02]],\n",
       "\n",
       "         [[-2.6593e-02,  3.9382e-02, -8.3937e-03],\n",
       "          [-3.1704e-02, -6.0318e-03,  5.3831e-03],\n",
       "          [-4.7803e-02, -4.3978e-02,  5.3610e-06]],\n",
       "\n",
       "         [[-3.1691e-02,  1.3603e-03, -2.7139e-03],\n",
       "          [ 1.4907e-02, -1.9542e-03,  8.6123e-05],\n",
       "          [-7.5084e-03, -3.1214e-03,  1.3781e-02]]],\n",
       "\n",
       "\n",
       "        [[[-1.7927e-02,  1.9769e-02,  4.2579e-02],\n",
       "          [-2.8930e-02,  3.5981e-02,  2.0820e-02],\n",
       "          [ 2.9548e-02,  1.2944e-02,  3.2133e-02]],\n",
       "\n",
       "         [[-1.5885e-02,  2.7101e-02, -3.7205e-02],\n",
       "          [-2.7906e-02, -2.6715e-02, -4.2951e-02],\n",
       "          [ 2.2266e-02, -2.1095e-02, -2.9928e-02]],\n",
       "\n",
       "         [[ 1.3680e-02,  2.5411e-02, -1.1294e-02],\n",
       "          [ 4.3585e-03, -3.0820e-02, -5.8023e-03],\n",
       "          [-4.2573e-02, -7.3253e-03,  1.9332e-02]],\n",
       "\n",
       "         ...,\n",
       "\n",
       "         [[-6.1171e-03,  4.9137e-03, -6.9265e-03],\n",
       "          [ 8.4347e-03,  2.0015e-02, -1.3653e-02],\n",
       "          [-2.0037e-02,  6.1073e-03, -1.5484e-02]],\n",
       "\n",
       "         [[-4.0838e-02,  1.5064e-02,  8.7100e-03],\n",
       "          [ 1.2752e-02,  2.6757e-02,  2.2764e-02],\n",
       "          [-1.7894e-02, -3.8575e-02, -1.2398e-02]],\n",
       "\n",
       "         [[-1.0316e-02,  3.0224e-02,  3.0439e-02],\n",
       "          [-3.5044e-02, -9.6225e-03, -1.2402e-02],\n",
       "          [ 1.5240e-02, -2.3387e-03, -2.0356e-02]]],\n",
       "\n",
       "\n",
       "        [[[-3.3024e-02,  1.7822e-03,  1.5683e-02],\n",
       "          [-2.8512e-02, -1.6244e-02,  3.1097e-02],\n",
       "          [-3.0761e-03, -2.3522e-02, -1.6761e-02]],\n",
       "\n",
       "         [[ 7.3588e-03,  3.6180e-02, -6.3875e-03],\n",
       "          [ 2.1765e-02, -2.0900e-02,  1.6126e-02],\n",
       "          [ 2.7054e-02, -2.6227e-02, -2.3519e-02]],\n",
       "\n",
       "         [[-1.7327e-02,  4.3110e-02,  1.1293e-02],\n",
       "          [ 6.7356e-03, -1.9500e-03,  3.7193e-02],\n",
       "          [-7.7157e-03, -8.4228e-03, -1.3823e-02]],\n",
       "\n",
       "         ...,\n",
       "\n",
       "         [[ 2.6340e-02, -2.4112e-02, -3.3745e-02],\n",
       "          [ 6.3528e-03, -3.6370e-02, -1.9133e-02],\n",
       "          [ 2.3031e-03,  6.1539e-03,  1.6661e-02]],\n",
       "\n",
       "         [[-2.0340e-02,  2.3312e-02,  2.4059e-02],\n",
       "          [-3.3370e-02, -6.7427e-03, -1.0534e-02],\n",
       "          [-2.7578e-02,  2.3654e-02, -2.0710e-03]],\n",
       "\n",
       "         [[-2.8971e-02, -4.0622e-02, -1.7468e-02],\n",
       "          [-3.0773e-02,  1.1268e-02, -6.4800e-03],\n",
       "          [-8.1390e-03,  2.1823e-02, -4.1043e-02]]],\n",
       "\n",
       "\n",
       "        ...,\n",
       "\n",
       "\n",
       "        [[[ 4.1798e-02,  3.3142e-02,  7.8773e-03],\n",
       "          [ 3.0887e-02,  1.3929e-02, -1.4287e-03],\n",
       "          [ 1.0797e-02,  3.6229e-02, -2.8878e-02]],\n",
       "\n",
       "         [[ 1.7388e-02, -3.6152e-03, -3.7886e-03],\n",
       "          [-3.0563e-02,  1.2313e-02, -2.4956e-02],\n",
       "          [ 1.8783e-02, -9.8003e-03,  4.0430e-02]],\n",
       "\n",
       "         [[-5.5371e-03,  3.8516e-02, -3.9180e-03],\n",
       "          [-4.4810e-02, -2.9561e-02,  2.6680e-02],\n",
       "          [ 2.3748e-02,  7.3117e-03,  5.3754e-03]],\n",
       "\n",
       "         ...,\n",
       "\n",
       "         [[-2.9428e-02, -2.6340e-02,  2.2054e-02],\n",
       "          [ 2.9730e-02, -5.8009e-03, -5.3047e-03],\n",
       "          [ 3.6084e-02, -7.5185e-03, -3.1699e-02]],\n",
       "\n",
       "         [[ 1.2368e-02,  1.5588e-02, -2.5278e-02],\n",
       "          [-1.4394e-02,  1.4115e-02,  2.2566e-02],\n",
       "          [ 1.0433e-03,  1.6786e-02,  2.3886e-02]],\n",
       "\n",
       "         [[ 4.0596e-02,  1.2328e-02, -1.7336e-02],\n",
       "          [-2.0097e-02,  2.9363e-02, -2.4195e-02],\n",
       "          [-8.4250e-03, -2.6959e-02,  5.4255e-03]]],\n",
       "\n",
       "\n",
       "        [[[ 2.7258e-02,  2.7796e-02, -1.6095e-02],\n",
       "          [-2.6054e-02,  1.3141e-02,  2.5235e-02],\n",
       "          [-7.9006e-03,  3.8223e-02,  4.3607e-02]],\n",
       "\n",
       "         [[ 1.5138e-02,  3.9561e-02,  4.1891e-02],\n",
       "          [-2.4602e-03,  1.7972e-02,  2.3584e-02],\n",
       "          [-4.1960e-02, -2.3770e-02,  1.2725e-02]],\n",
       "\n",
       "         [[ 9.2981e-03,  5.3241e-03,  1.2143e-02],\n",
       "          [-3.0065e-02,  3.3773e-02,  7.1717e-03],\n",
       "          [-1.9828e-02,  2.5148e-02, -3.4423e-02]],\n",
       "\n",
       "         ...,\n",
       "\n",
       "         [[ 3.2248e-02,  6.1538e-04, -2.2209e-02],\n",
       "          [ 2.5077e-02,  4.1875e-02, -2.2660e-02],\n",
       "          [-2.9481e-02,  3.1082e-02, -2.2682e-02]],\n",
       "\n",
       "         [[-3.4959e-02, -3.5225e-02, -2.6719e-02],\n",
       "          [ 3.5259e-02,  2.5490e-02,  4.2372e-02],\n",
       "          [-2.8054e-02, -2.4147e-02,  2.4567e-02]],\n",
       "\n",
       "         [[ 2.4805e-02,  2.7038e-03,  1.5714e-02],\n",
       "          [ 3.8899e-02, -1.6341e-02,  2.2990e-02],\n",
       "          [ 1.0451e-04,  2.6058e-02,  1.6108e-02]]],\n",
       "\n",
       "\n",
       "        [[[ 2.6657e-03,  2.1839e-02,  3.7075e-02],\n",
       "          [-1.3293e-02, -4.4909e-03, -2.2827e-02],\n",
       "          [-4.3800e-02, -9.6556e-03, -2.1198e-02]],\n",
       "\n",
       "         [[-3.5446e-03,  3.3068e-02,  4.0417e-02],\n",
       "          [ 2.1795e-02,  2.2783e-02, -1.0170e-02],\n",
       "          [-3.3479e-02,  1.0387e-02, -2.7937e-02]],\n",
       "\n",
       "         [[-1.6987e-02, -1.9597e-02, -3.3245e-02],\n",
       "          [ 2.1724e-02,  2.5638e-02, -2.3514e-02],\n",
       "          [-9.4009e-03,  1.2474e-03,  8.2479e-03]],\n",
       "\n",
       "         ...,\n",
       "\n",
       "         [[ 2.9108e-02, -6.7179e-03, -1.3704e-03],\n",
       "          [ 1.8228e-02,  4.9506e-03,  1.4639e-02],\n",
       "          [-3.3055e-02, -3.0774e-02, -2.6141e-02]],\n",
       "\n",
       "         [[-3.4515e-02,  6.6095e-03,  3.9191e-02],\n",
       "          [ 2.3768e-02, -2.7947e-02,  1.7745e-02],\n",
       "          [ 7.9634e-05,  3.0291e-02,  1.8947e-02]],\n",
       "\n",
       "         [[-3.8132e-02,  2.6203e-02,  3.2684e-02],\n",
       "          [ 2.5538e-02, -1.3153e-02, -8.3603e-03],\n",
       "          [ 2.8008e-02,  2.4966e-02,  1.9227e-02]]]], device='cuda:0',\n",
       "       requires_grad=True)"
      ]
     },
     "execution_count": 149,
     "metadata": {},
     "output_type": "execute_result"
    }
   ],
   "source": [
    "newModel1.conv2_1.weight"
   ]
  },
  {
   "cell_type": "code",
   "execution_count": 59,
   "metadata": {},
   "outputs": [
    {
     "data": {
      "text/plain": [
       "Parameter containing:\n",
       "tensor([[-0.0170, -0.0145, -0.0249,  ..., -0.0205, -0.0112, -0.0009],\n",
       "        [-0.0257,  0.0155, -0.0224,  ...,  0.0049, -0.0210, -0.0069],\n",
       "        [-0.0129,  0.0178, -0.0125,  ..., -0.0094, -0.0255, -0.0131],\n",
       "        ...,\n",
       "        [ 0.0121,  0.0036, -0.0042,  ...,  0.0038, -0.0079,  0.0064],\n",
       "        [-0.0148,  0.0133,  0.0133,  ...,  0.0150,  0.0030, -0.0145],\n",
       "        [-0.0070,  0.0070, -0.0134,  ...,  0.0072, -0.0007,  0.0016]],\n",
       "       requires_grad=True)"
      ]
     },
     "execution_count": 59,
     "metadata": {},
     "output_type": "execute_result"
    }
   ],
   "source": [
    "newModel1.fc1.weight"
   ]
  },
  {
   "cell_type": "markdown",
   "metadata": {},
   "source": [
    "### Train on B"
   ]
  },
  {
   "cell_type": "code",
   "execution_count": 150,
   "metadata": {},
   "outputs": [
    {
     "name": "stderr",
     "output_type": "stream",
     "text": [
      "  0%|          | 0/20 [00:00<?, ?it/s]"
     ]
    },
    {
     "name": "stdout",
     "output_type": "stream",
     "text": [
      "train:  tensor(3.) 3.7360117435455322\n"
     ]
    },
    {
     "name": "stderr",
     "output_type": "stream",
     "text": [
      "  5%|▌         | 1/20 [00:01<00:37,  1.95s/it]"
     ]
    },
    {
     "name": "stdout",
     "output_type": "stream",
     "text": [
      "test:  tensor(3.8610) 3.3133307456970216\n",
      "train:  tensor(17.) 3.0067801475524902\n"
     ]
    },
    {
     "name": "stderr",
     "output_type": "stream",
     "text": [
      " 10%|█         | 2/20 [00:03<00:32,  1.81s/it]"
     ]
    },
    {
     "name": "stdout",
     "output_type": "stream",
     "text": [
      "test:  tensor(6.1776) 3.1750799655914306\n",
      "train:  tensor(33.) 2.588594913482666\n"
     ]
    },
    {
     "name": "stderr",
     "output_type": "stream",
     "text": [
      " 15%|█▌        | 3/20 [00:05<00:29,  1.74s/it]"
     ]
    },
    {
     "name": "stdout",
     "output_type": "stream",
     "text": [
      "test:  tensor(10.8108) 3.006966733932495\n",
      "train:  tensor(69.) 2.264235019683838\n"
     ]
    },
    {
     "name": "stderr",
     "output_type": "stream",
     "text": [
      " 20%|██        | 4/20 [00:07<00:27,  1.74s/it]"
     ]
    },
    {
     "name": "stdout",
     "output_type": "stream",
     "text": [
      "test:  tensor(17.9537) 2.811112403869629\n",
      "train:  tensor(81.) 1.9681631326675415\n"
     ]
    },
    {
     "name": "stderr",
     "output_type": "stream",
     "text": [
      " 25%|██▌       | 5/20 [00:08<00:25,  1.73s/it]"
     ]
    },
    {
     "name": "stdout",
     "output_type": "stream",
     "text": [
      "test:  tensor(24.3243) 2.6742984771728517\n",
      "train:  tensor(90.) 1.7198048830032349\n"
     ]
    },
    {
     "name": "stderr",
     "output_type": "stream",
     "text": [
      " 30%|███       | 6/20 [00:10<00:24,  1.72s/it]"
     ]
    },
    {
     "name": "stdout",
     "output_type": "stream",
     "text": [
      "test:  tensor(28.7645) 2.5740155220031737\n",
      "train:  tensor(92.0000) 1.4736251831054688\n"
     ]
    },
    {
     "name": "stderr",
     "output_type": "stream",
     "text": [
      " 35%|███▌      | 7/20 [00:12<00:22,  1.70s/it]"
     ]
    },
    {
     "name": "stdout",
     "output_type": "stream",
     "text": [
      "test:  tensor(34.5560) 2.4303266525268556\n",
      "train:  tensor(93.) 1.3176366090774536\n"
     ]
    },
    {
     "name": "stderr",
     "output_type": "stream",
     "text": [
      " 40%|████      | 8/20 [00:13<00:20,  1.70s/it]"
     ]
    },
    {
     "name": "stdout",
     "output_type": "stream",
     "text": [
      "test:  tensor(36.8726) 2.3144909381866454\n",
      "train:  tensor(96.) 1.1138050556182861\n"
     ]
    },
    {
     "name": "stderr",
     "output_type": "stream",
     "text": [
      " 45%|████▌     | 9/20 [00:15<00:18,  1.69s/it]"
     ]
    },
    {
     "name": "stdout",
     "output_type": "stream",
     "text": [
      "test:  tensor(38.9961) 2.2800100326538084\n",
      "train:  tensor(95.) 0.9692810773849487\n"
     ]
    },
    {
     "name": "stderr",
     "output_type": "stream",
     "text": [
      " 50%|█████     | 10/20 [00:17<00:16,  1.69s/it]"
     ]
    },
    {
     "name": "stdout",
     "output_type": "stream",
     "text": [
      "test:  tensor(39.7683) 2.2536521434783934\n",
      "train:  tensor(98.0000) 0.79969322681427\n"
     ]
    },
    {
     "name": "stderr",
     "output_type": "stream",
     "text": [
      " 55%|█████▌    | 11/20 [00:18<00:15,  1.69s/it]"
     ]
    },
    {
     "name": "stdout",
     "output_type": "stream",
     "text": [
      "test:  tensor(40.3475) 2.1762888431549072\n",
      "train:  tensor(99.0000) 0.6416202783584595\n"
     ]
    },
    {
     "name": "stderr",
     "output_type": "stream",
     "text": [
      " 60%|██████    | 12/20 [00:20<00:13,  1.69s/it]"
     ]
    },
    {
     "name": "stdout",
     "output_type": "stream",
     "text": [
      "test:  tensor(40.9266) 2.0172800064086913\n",
      "train:  tensor(99.0000) 0.5449172854423523\n"
     ]
    },
    {
     "name": "stderr",
     "output_type": "stream",
     "text": [
      " 65%|██████▌   | 13/20 [00:22<00:11,  1.69s/it]"
     ]
    },
    {
     "name": "stdout",
     "output_type": "stream",
     "text": [
      "test:  tensor(42.2780) 1.9249638080596925\n",
      "train:  tensor(99.0000) 0.49250632524490356\n"
     ]
    },
    {
     "name": "stderr",
     "output_type": "stream",
     "text": [
      " 70%|███████   | 14/20 [00:23<00:10,  1.69s/it]"
     ]
    },
    {
     "name": "stdout",
     "output_type": "stream",
     "text": [
      "test:  tensor(43.2432) 2.0330743312835695\n",
      "train:  tensor(100.) 0.4017335772514343\n"
     ]
    },
    {
     "name": "stderr",
     "output_type": "stream",
     "text": [
      " 75%|███████▌  | 15/20 [00:25<00:08,  1.69s/it]"
     ]
    },
    {
     "name": "stdout",
     "output_type": "stream",
     "text": [
      "test:  tensor(43.0502) 1.9388537883758545\n",
      "train:  tensor(100.) 0.3293105363845825\n"
     ]
    },
    {
     "name": "stderr",
     "output_type": "stream",
     "text": [
      " 80%|████████  | 16/20 [00:27<00:06,  1.69s/it]"
     ]
    },
    {
     "name": "stdout",
     "output_type": "stream",
     "text": [
      "test:  tensor(43.2432) 1.9018833875656127\n",
      "train:  tensor(100.) 0.27055078744888306\n"
     ]
    },
    {
     "name": "stderr",
     "output_type": "stream",
     "text": [
      " 85%|████████▌ | 17/20 [00:28<00:05,  1.68s/it]"
     ]
    },
    {
     "name": "stdout",
     "output_type": "stream",
     "text": [
      "test:  tensor(44.0154) 1.8495002031326293\n",
      "train:  tensor(100.) 0.2395671010017395\n"
     ]
    },
    {
     "name": "stderr",
     "output_type": "stream",
     "text": [
      " 90%|█████████ | 18/20 [00:30<00:03,  1.68s/it]"
     ]
    },
    {
     "name": "stdout",
     "output_type": "stream",
     "text": [
      "test:  tensor(44.0154) 1.9650354862213135\n",
      "train:  tensor(100.) 0.19845321774482727\n"
     ]
    },
    {
     "name": "stderr",
     "output_type": "stream",
     "text": [
      " 95%|█████████▌| 19/20 [00:32<00:01,  1.69s/it]"
     ]
    },
    {
     "name": "stdout",
     "output_type": "stream",
     "text": [
      "test:  tensor(43.4363) 1.9730603456497193\n",
      "train:  tensor(100.) 0.16455689072608948\n"
     ]
    },
    {
     "name": "stderr",
     "output_type": "stream",
     "text": [
      "100%|██████████| 20/20 [00:34<00:00,  1.70s/it]"
     ]
    },
    {
     "name": "stdout",
     "output_type": "stream",
     "text": [
      "test:  tensor(43.2432) 1.9940651416778565\n"
     ]
    },
    {
     "name": "stderr",
     "output_type": "stream",
     "text": [
      "\n"
     ]
    },
    {
     "data": {
      "text/plain": [
       "<Figure size 1400x600 with 0 Axes>"
      ]
     },
     "metadata": {},
     "output_type": "display_data"
    }
   ],
   "source": [
    "run(train_data=B_train_dl, test_data=B_test_dl, input_model=newModel1, index=2, epochs=20, lr=0.0001, test=False)"
   ]
  },
  {
   "cell_type": "markdown",
   "metadata": {},
   "source": [
    "#### weights after train "
   ]
  },
  {
   "cell_type": "code",
   "execution_count": 151,
   "metadata": {},
   "outputs": [
    {
     "data": {
      "text/plain": [
       "Parameter containing:\n",
       "tensor([[[[-0.0412,  0.0273,  0.0228],\n",
       "          [-0.0505, -0.0379,  0.0266],\n",
       "          [ 0.0041, -0.0421,  0.0342]],\n",
       "\n",
       "         [[ 0.0009, -0.0311, -0.0161],\n",
       "          [-0.0348, -0.0408,  0.0056],\n",
       "          [ 0.0172, -0.0198, -0.0195]],\n",
       "\n",
       "         [[ 0.0264, -0.0272, -0.0119],\n",
       "          [ 0.0135, -0.0348, -0.0117],\n",
       "          [-0.0320, -0.0265,  0.0389]],\n",
       "\n",
       "         ...,\n",
       "\n",
       "         [[ 0.0268,  0.0332,  0.0080],\n",
       "          [-0.0082, -0.0270, -0.0306],\n",
       "          [-0.0108, -0.0192,  0.0241]],\n",
       "\n",
       "         [[-0.0262,  0.0391, -0.0088],\n",
       "          [-0.0318, -0.0060,  0.0052],\n",
       "          [-0.0477, -0.0442, -0.0002]],\n",
       "\n",
       "         [[-0.0310,  0.0020, -0.0021],\n",
       "          [ 0.0155, -0.0014,  0.0006],\n",
       "          [-0.0070, -0.0027,  0.0142]]],\n",
       "\n",
       "\n",
       "        [[[-0.0170,  0.0210,  0.0433],\n",
       "          [-0.0281,  0.0368,  0.0209],\n",
       "          [ 0.0300,  0.0135,  0.0324]],\n",
       "\n",
       "         [[-0.0160,  0.0275, -0.0373],\n",
       "          [-0.0280, -0.0265, -0.0431],\n",
       "          [ 0.0223, -0.0215, -0.0303]],\n",
       "\n",
       "         [[ 0.0131,  0.0249, -0.0116],\n",
       "          [ 0.0038, -0.0314, -0.0060],\n",
       "          [-0.0431, -0.0076,  0.0195]],\n",
       "\n",
       "         ...,\n",
       "\n",
       "         [[-0.0058,  0.0051, -0.0071],\n",
       "          [ 0.0088,  0.0203, -0.0137],\n",
       "          [-0.0199,  0.0060, -0.0156]],\n",
       "\n",
       "         [[-0.0412,  0.0146,  0.0083],\n",
       "          [ 0.0126,  0.0265,  0.0223],\n",
       "          [-0.0181, -0.0386, -0.0125]],\n",
       "\n",
       "         [[-0.0114,  0.0295,  0.0301],\n",
       "          [-0.0358, -0.0099, -0.0124],\n",
       "          [ 0.0149, -0.0023, -0.0202]]],\n",
       "\n",
       "\n",
       "        [[[-0.0336,  0.0010,  0.0148],\n",
       "          [-0.0296, -0.0174,  0.0301],\n",
       "          [-0.0043, -0.0247, -0.0176]],\n",
       "\n",
       "         [[ 0.0084,  0.0373, -0.0054],\n",
       "          [ 0.0229, -0.0198,  0.0173],\n",
       "          [ 0.0281, -0.0251, -0.0226]],\n",
       "\n",
       "         [[-0.0167,  0.0436,  0.0114],\n",
       "          [ 0.0074, -0.0013,  0.0377],\n",
       "          [-0.0069, -0.0076, -0.0131]],\n",
       "\n",
       "         ...,\n",
       "\n",
       "         [[ 0.0269, -0.0235, -0.0331],\n",
       "          [ 0.0067, -0.0361, -0.0188],\n",
       "          [ 0.0025,  0.0062,  0.0166]],\n",
       "\n",
       "         [[-0.0209,  0.0225,  0.0233],\n",
       "          [-0.0337, -0.0071, -0.0113],\n",
       "          [-0.0279,  0.0231, -0.0025]],\n",
       "\n",
       "         [[-0.0288, -0.0398, -0.0163],\n",
       "          [-0.0310,  0.0118, -0.0054],\n",
       "          [-0.0083,  0.0221, -0.0401]]],\n",
       "\n",
       "\n",
       "        ...,\n",
       "\n",
       "\n",
       "        [[[ 0.0420,  0.0330,  0.0077],\n",
       "          [ 0.0312,  0.0142, -0.0016],\n",
       "          [ 0.0110,  0.0365, -0.0287]],\n",
       "\n",
       "         [[ 0.0171, -0.0043, -0.0047],\n",
       "          [-0.0312,  0.0116, -0.0256],\n",
       "          [ 0.0185, -0.0105,  0.0403]],\n",
       "\n",
       "         [[-0.0058,  0.0381, -0.0042],\n",
       "          [-0.0451, -0.0301,  0.0262],\n",
       "          [ 0.0233,  0.0067,  0.0049]],\n",
       "\n",
       "         ...,\n",
       "\n",
       "         [[-0.0294, -0.0264,  0.0220],\n",
       "          [ 0.0296, -0.0060, -0.0054],\n",
       "          [ 0.0360, -0.0076, -0.0317]],\n",
       "\n",
       "         [[ 0.0131,  0.0162, -0.0250],\n",
       "          [-0.0137,  0.0149,  0.0233],\n",
       "          [ 0.0016,  0.0174,  0.0243]],\n",
       "\n",
       "         [[ 0.0403,  0.0121, -0.0175],\n",
       "          [-0.0204,  0.0291, -0.0244],\n",
       "          [-0.0088, -0.0273,  0.0054]]],\n",
       "\n",
       "\n",
       "        [[[ 0.0281,  0.0284, -0.0156],\n",
       "          [-0.0254,  0.0136,  0.0257],\n",
       "          [-0.0074,  0.0388,  0.0443]],\n",
       "\n",
       "         [[ 0.0141,  0.0386,  0.0413],\n",
       "          [-0.0040,  0.0170,  0.0230],\n",
       "          [-0.0435, -0.0251,  0.0118]],\n",
       "\n",
       "         [[ 0.0085,  0.0047,  0.0114],\n",
       "          [-0.0309,  0.0332,  0.0065],\n",
       "          [-0.0206,  0.0246, -0.0349]],\n",
       "\n",
       "         ...,\n",
       "\n",
       "         [[ 0.0318,  0.0001, -0.0227],\n",
       "          [ 0.0247,  0.0414, -0.0231],\n",
       "          [-0.0299,  0.0306, -0.0232]],\n",
       "\n",
       "         [[-0.0351, -0.0355, -0.0270],\n",
       "          [ 0.0352,  0.0252,  0.0420],\n",
       "          [-0.0284, -0.0247,  0.0239]],\n",
       "\n",
       "         [[ 0.0245,  0.0025,  0.0154],\n",
       "          [ 0.0385, -0.0167,  0.0226],\n",
       "          [-0.0004,  0.0256,  0.0155]]],\n",
       "\n",
       "\n",
       "        [[[ 0.0033,  0.0223,  0.0376],\n",
       "          [-0.0126, -0.0036, -0.0226],\n",
       "          [-0.0434, -0.0091, -0.0222]],\n",
       "\n",
       "         [[-0.0024,  0.0340,  0.0414],\n",
       "          [ 0.0229,  0.0239, -0.0091],\n",
       "          [-0.0327,  0.0112, -0.0267]],\n",
       "\n",
       "         [[-0.0174, -0.0202, -0.0336],\n",
       "          [ 0.0211,  0.0251, -0.0235],\n",
       "          [-0.0099,  0.0009,  0.0087]],\n",
       "\n",
       "         ...,\n",
       "\n",
       "         [[ 0.0283, -0.0076, -0.0023],\n",
       "          [ 0.0174,  0.0042,  0.0139],\n",
       "          [-0.0339, -0.0316, -0.0269]],\n",
       "\n",
       "         [[-0.0345,  0.0066,  0.0391],\n",
       "          [ 0.0237, -0.0280,  0.0176],\n",
       "          [ 0.0004,  0.0309,  0.0197]],\n",
       "\n",
       "         [[-0.0383,  0.0260,  0.0322],\n",
       "          [ 0.0255, -0.0131, -0.0085],\n",
       "          [ 0.0281,  0.0249,  0.0190]]]], device='cuda:0', requires_grad=True)"
      ]
     },
     "execution_count": 151,
     "metadata": {},
     "output_type": "execute_result"
    }
   ],
   "source": [
    "newModel1.conv2_1.weight"
   ]
  },
  {
   "cell_type": "markdown",
   "metadata": {},
   "source": [
    "###"
   ]
  },
  {
   "cell_type": "code",
   "execution_count": 152,
   "metadata": {},
   "outputs": [
    {
     "data": {
      "text/plain": [
       "Parameter containing:\n",
       "tensor([[-0.0158, -0.0277, -0.0263,  ...,  0.0020,  0.0107, -0.0081],\n",
       "        [ 0.0110,  0.0106,  0.0136,  ..., -0.0302,  0.0122,  0.0104],\n",
       "        [-0.0224, -0.0372, -0.0229,  ...,  0.0094,  0.0021,  0.0028],\n",
       "        ...,\n",
       "        [-0.0052, -0.0069,  0.0171,  ...,  0.0010,  0.0077,  0.0102],\n",
       "        [ 0.0084, -0.0062, -0.0088,  ..., -0.0137, -0.0104,  0.0009],\n",
       "        [ 0.0014, -0.0123,  0.0134,  ..., -0.0027, -0.0044,  0.0150]],\n",
       "       device='cuda:0', requires_grad=True)"
      ]
     },
     "execution_count": 152,
     "metadata": {},
     "output_type": "execute_result"
    }
   ],
   "source": [
    "newModel1.fc1.weight"
   ]
  },
  {
   "cell_type": "markdown",
   "metadata": {},
   "source": [
    "#### test on A test after train on B"
   ]
  },
  {
   "cell_type": "code",
   "execution_count": 75,
   "metadata": {},
   "outputs": [
    {
     "name": "stdout",
     "output_type": "stream",
     "text": [
      "tensor(9.0377)\n"
     ]
    }
   ],
   "source": [
    "nm = newModel1.to(\"cpu\")\n",
    "acc, _ = test_model(nm, A_test_dl, nn.CrossEntropyLoss(), dir=\"Conf_B1_after_train_A-test\", cpu=True)\n",
    "print(acc)"
   ]
  },
  {
   "cell_type": "markdown",
   "metadata": {},
   "source": [
    "#### for test all and plot test curve"
   ]
  },
  {
   "cell_type": "code",
   "execution_count": null,
   "metadata": {},
   "outputs": [],
   "source": [
    "run(B_train_dl , test_all, newModel1, index=3, epochs=20, lr=0.0001, cm=True, dir=\"CM1\")"
   ]
  },
  {
   "cell_type": "markdown",
   "metadata": {},
   "source": [
    "## Second Way"
   ]
  },
  {
   "cell_type": "code",
   "execution_count": 153,
   "metadata": {},
   "outputs": [],
   "source": [
    "new_model2 = transfer_learning(my_model, freeze=True)"
   ]
  },
  {
   "cell_type": "markdown",
   "metadata": {},
   "source": [
    "#### weight after transfer"
   ]
  },
  {
   "cell_type": "code",
   "execution_count": 154,
   "metadata": {},
   "outputs": [
    {
     "data": {
      "text/plain": [
       "Parameter containing:\n",
       "tensor([[[[-4.1152e-02,  2.7552e-02,  2.3232e-02],\n",
       "          [-5.0019e-02, -3.7431e-02,  2.7063e-02],\n",
       "          [ 4.6284e-03, -4.1788e-02,  3.4469e-02]],\n",
       "\n",
       "         [[ 1.0118e-03, -3.1182e-02, -1.6825e-02],\n",
       "          [-3.5135e-02, -4.1477e-02,  4.8241e-03],\n",
       "          [ 1.6821e-02, -2.0892e-02, -2.0368e-02]],\n",
       "\n",
       "         [[ 2.6120e-02, -2.7894e-02, -1.2092e-02],\n",
       "          [ 1.3028e-02, -3.5441e-02, -1.2177e-02],\n",
       "          [-3.2591e-02, -2.6870e-02,  3.9030e-02]],\n",
       "\n",
       "         ...,\n",
       "\n",
       "         [[ 2.6396e-02,  3.2726e-02,  7.4274e-03],\n",
       "          [-8.5307e-03, -2.7306e-02, -3.1041e-02],\n",
       "          [-1.1025e-02, -1.9495e-02,  2.3737e-02]],\n",
       "\n",
       "         [[-2.6593e-02,  3.9382e-02, -8.3937e-03],\n",
       "          [-3.1704e-02, -6.0318e-03,  5.3831e-03],\n",
       "          [-4.7803e-02, -4.3978e-02,  5.3610e-06]],\n",
       "\n",
       "         [[-3.1691e-02,  1.3603e-03, -2.7139e-03],\n",
       "          [ 1.4907e-02, -1.9542e-03,  8.6123e-05],\n",
       "          [-7.5084e-03, -3.1214e-03,  1.3781e-02]]],\n",
       "\n",
       "\n",
       "        [[[-1.7927e-02,  1.9769e-02,  4.2579e-02],\n",
       "          [-2.8930e-02,  3.5981e-02,  2.0820e-02],\n",
       "          [ 2.9548e-02,  1.2944e-02,  3.2133e-02]],\n",
       "\n",
       "         [[-1.5885e-02,  2.7101e-02, -3.7205e-02],\n",
       "          [-2.7906e-02, -2.6715e-02, -4.2951e-02],\n",
       "          [ 2.2266e-02, -2.1095e-02, -2.9928e-02]],\n",
       "\n",
       "         [[ 1.3680e-02,  2.5411e-02, -1.1294e-02],\n",
       "          [ 4.3585e-03, -3.0820e-02, -5.8023e-03],\n",
       "          [-4.2573e-02, -7.3253e-03,  1.9332e-02]],\n",
       "\n",
       "         ...,\n",
       "\n",
       "         [[-6.1171e-03,  4.9137e-03, -6.9265e-03],\n",
       "          [ 8.4347e-03,  2.0015e-02, -1.3653e-02],\n",
       "          [-2.0037e-02,  6.1073e-03, -1.5484e-02]],\n",
       "\n",
       "         [[-4.0838e-02,  1.5064e-02,  8.7100e-03],\n",
       "          [ 1.2752e-02,  2.6757e-02,  2.2764e-02],\n",
       "          [-1.7894e-02, -3.8575e-02, -1.2398e-02]],\n",
       "\n",
       "         [[-1.0316e-02,  3.0224e-02,  3.0439e-02],\n",
       "          [-3.5044e-02, -9.6225e-03, -1.2402e-02],\n",
       "          [ 1.5240e-02, -2.3387e-03, -2.0356e-02]]],\n",
       "\n",
       "\n",
       "        [[[-3.3024e-02,  1.7822e-03,  1.5683e-02],\n",
       "          [-2.8512e-02, -1.6244e-02,  3.1097e-02],\n",
       "          [-3.0761e-03, -2.3522e-02, -1.6761e-02]],\n",
       "\n",
       "         [[ 7.3588e-03,  3.6180e-02, -6.3875e-03],\n",
       "          [ 2.1765e-02, -2.0900e-02,  1.6126e-02],\n",
       "          [ 2.7054e-02, -2.6227e-02, -2.3519e-02]],\n",
       "\n",
       "         [[-1.7327e-02,  4.3110e-02,  1.1293e-02],\n",
       "          [ 6.7356e-03, -1.9500e-03,  3.7193e-02],\n",
       "          [-7.7157e-03, -8.4228e-03, -1.3823e-02]],\n",
       "\n",
       "         ...,\n",
       "\n",
       "         [[ 2.6340e-02, -2.4112e-02, -3.3745e-02],\n",
       "          [ 6.3528e-03, -3.6370e-02, -1.9133e-02],\n",
       "          [ 2.3031e-03,  6.1539e-03,  1.6661e-02]],\n",
       "\n",
       "         [[-2.0340e-02,  2.3312e-02,  2.4059e-02],\n",
       "          [-3.3370e-02, -6.7427e-03, -1.0534e-02],\n",
       "          [-2.7578e-02,  2.3654e-02, -2.0710e-03]],\n",
       "\n",
       "         [[-2.8971e-02, -4.0622e-02, -1.7468e-02],\n",
       "          [-3.0773e-02,  1.1268e-02, -6.4800e-03],\n",
       "          [-8.1390e-03,  2.1823e-02, -4.1043e-02]]],\n",
       "\n",
       "\n",
       "        ...,\n",
       "\n",
       "\n",
       "        [[[ 4.1798e-02,  3.3142e-02,  7.8773e-03],\n",
       "          [ 3.0887e-02,  1.3929e-02, -1.4287e-03],\n",
       "          [ 1.0797e-02,  3.6229e-02, -2.8878e-02]],\n",
       "\n",
       "         [[ 1.7388e-02, -3.6152e-03, -3.7886e-03],\n",
       "          [-3.0563e-02,  1.2313e-02, -2.4956e-02],\n",
       "          [ 1.8783e-02, -9.8003e-03,  4.0430e-02]],\n",
       "\n",
       "         [[-5.5371e-03,  3.8516e-02, -3.9180e-03],\n",
       "          [-4.4810e-02, -2.9561e-02,  2.6680e-02],\n",
       "          [ 2.3748e-02,  7.3117e-03,  5.3754e-03]],\n",
       "\n",
       "         ...,\n",
       "\n",
       "         [[-2.9428e-02, -2.6340e-02,  2.2054e-02],\n",
       "          [ 2.9730e-02, -5.8009e-03, -5.3047e-03],\n",
       "          [ 3.6084e-02, -7.5185e-03, -3.1699e-02]],\n",
       "\n",
       "         [[ 1.2368e-02,  1.5588e-02, -2.5278e-02],\n",
       "          [-1.4394e-02,  1.4115e-02,  2.2566e-02],\n",
       "          [ 1.0433e-03,  1.6786e-02,  2.3886e-02]],\n",
       "\n",
       "         [[ 4.0596e-02,  1.2328e-02, -1.7336e-02],\n",
       "          [-2.0097e-02,  2.9363e-02, -2.4195e-02],\n",
       "          [-8.4250e-03, -2.6959e-02,  5.4255e-03]]],\n",
       "\n",
       "\n",
       "        [[[ 2.7258e-02,  2.7796e-02, -1.6095e-02],\n",
       "          [-2.6054e-02,  1.3141e-02,  2.5235e-02],\n",
       "          [-7.9006e-03,  3.8223e-02,  4.3607e-02]],\n",
       "\n",
       "         [[ 1.5138e-02,  3.9561e-02,  4.1891e-02],\n",
       "          [-2.4602e-03,  1.7972e-02,  2.3584e-02],\n",
       "          [-4.1960e-02, -2.3770e-02,  1.2725e-02]],\n",
       "\n",
       "         [[ 9.2981e-03,  5.3241e-03,  1.2143e-02],\n",
       "          [-3.0065e-02,  3.3773e-02,  7.1717e-03],\n",
       "          [-1.9828e-02,  2.5148e-02, -3.4423e-02]],\n",
       "\n",
       "         ...,\n",
       "\n",
       "         [[ 3.2248e-02,  6.1538e-04, -2.2209e-02],\n",
       "          [ 2.5077e-02,  4.1875e-02, -2.2660e-02],\n",
       "          [-2.9481e-02,  3.1082e-02, -2.2682e-02]],\n",
       "\n",
       "         [[-3.4959e-02, -3.5225e-02, -2.6719e-02],\n",
       "          [ 3.5259e-02,  2.5490e-02,  4.2372e-02],\n",
       "          [-2.8054e-02, -2.4147e-02,  2.4567e-02]],\n",
       "\n",
       "         [[ 2.4805e-02,  2.7038e-03,  1.5714e-02],\n",
       "          [ 3.8899e-02, -1.6341e-02,  2.2990e-02],\n",
       "          [ 1.0451e-04,  2.6058e-02,  1.6108e-02]]],\n",
       "\n",
       "\n",
       "        [[[ 2.6657e-03,  2.1839e-02,  3.7075e-02],\n",
       "          [-1.3293e-02, -4.4909e-03, -2.2827e-02],\n",
       "          [-4.3800e-02, -9.6556e-03, -2.1198e-02]],\n",
       "\n",
       "         [[-3.5446e-03,  3.3068e-02,  4.0417e-02],\n",
       "          [ 2.1795e-02,  2.2783e-02, -1.0170e-02],\n",
       "          [-3.3479e-02,  1.0387e-02, -2.7937e-02]],\n",
       "\n",
       "         [[-1.6987e-02, -1.9597e-02, -3.3245e-02],\n",
       "          [ 2.1724e-02,  2.5638e-02, -2.3514e-02],\n",
       "          [-9.4009e-03,  1.2474e-03,  8.2479e-03]],\n",
       "\n",
       "         ...,\n",
       "\n",
       "         [[ 2.9108e-02, -6.7179e-03, -1.3704e-03],\n",
       "          [ 1.8228e-02,  4.9506e-03,  1.4639e-02],\n",
       "          [-3.3055e-02, -3.0774e-02, -2.6141e-02]],\n",
       "\n",
       "         [[-3.4515e-02,  6.6095e-03,  3.9191e-02],\n",
       "          [ 2.3768e-02, -2.7947e-02,  1.7745e-02],\n",
       "          [ 7.9634e-05,  3.0291e-02,  1.8947e-02]],\n",
       "\n",
       "         [[-3.8132e-02,  2.6203e-02,  3.2684e-02],\n",
       "          [ 2.5538e-02, -1.3153e-02, -8.3603e-03],\n",
       "          [ 2.8008e-02,  2.4966e-02,  1.9227e-02]]]], device='cuda:0')"
      ]
     },
     "execution_count": 154,
     "metadata": {},
     "output_type": "execute_result"
    }
   ],
   "source": [
    "new_model2.conv2_1.weight"
   ]
  },
  {
   "cell_type": "code",
   "execution_count": 155,
   "metadata": {},
   "outputs": [
    {
     "data": {
      "text/plain": [
       "Parameter containing:\n",
       "tensor([[-0.0148, -0.0265, -0.0253,  ...,  0.0032,  0.0118, -0.0070],\n",
       "        [ 0.0125,  0.0121,  0.0150,  ..., -0.0289,  0.0135,  0.0117],\n",
       "        [-0.0210, -0.0359, -0.0215,  ...,  0.0106,  0.0034,  0.0037],\n",
       "        ...,\n",
       "        [-0.0057,  0.0136,  0.0093,  ...,  0.0092,  0.0100, -0.0023],\n",
       "        [ 0.0122,  0.0152,  0.0062,  ...,  0.0132,  0.0029,  0.0114],\n",
       "        [-0.0082,  0.0127,  0.0095,  ..., -0.0137,  0.0123, -0.0109]],\n",
       "       requires_grad=True)"
      ]
     },
     "execution_count": 155,
     "metadata": {},
     "output_type": "execute_result"
    }
   ],
   "source": [
    "new_model2.fc1.weight"
   ]
  },
  {
   "cell_type": "markdown",
   "metadata": {},
   "source": [
    "### Train on B"
   ]
  },
  {
   "cell_type": "code",
   "execution_count": 156,
   "metadata": {},
   "outputs": [
    {
     "name": "stderr",
     "output_type": "stream",
     "text": [
      "  0%|          | 0/40 [00:00<?, ?it/s]"
     ]
    },
    {
     "name": "stdout",
     "output_type": "stream",
     "text": [
      "train:  tensor(2.) 3.7205376625061035\n"
     ]
    },
    {
     "name": "stderr",
     "output_type": "stream",
     "text": [
      "  2%|▎         | 1/40 [00:01<01:05,  1.68s/it]"
     ]
    },
    {
     "name": "stdout",
     "output_type": "stream",
     "text": [
      "test:  tensor(2.8958) 3.452285575866699\n",
      "train:  tensor(6.) 3.5804147720336914\n"
     ]
    },
    {
     "name": "stderr",
     "output_type": "stream",
     "text": [
      "  5%|▌         | 2/40 [00:03<01:00,  1.60s/it]"
     ]
    },
    {
     "name": "stdout",
     "output_type": "stream",
     "text": [
      "test:  tensor(3.8610) 3.494399166107178\n",
      "train:  tensor(9.) 3.398089647293091\n"
     ]
    },
    {
     "name": "stderr",
     "output_type": "stream",
     "text": [
      "  8%|▊         | 3/40 [00:04<00:58,  1.58s/it]"
     ]
    },
    {
     "name": "stdout",
     "output_type": "stream",
     "text": [
      "test:  tensor(5.0193) 3.332865333557129\n",
      "train:  tensor(10.0000) 3.326887845993042\n"
     ]
    },
    {
     "name": "stderr",
     "output_type": "stream",
     "text": [
      " 10%|█         | 4/40 [00:06<00:56,  1.57s/it]"
     ]
    },
    {
     "name": "stdout",
     "output_type": "stream",
     "text": [
      "test:  tensor(5.5985) 3.223168420791626\n",
      "train:  tensor(10.0000) 3.206458806991577\n"
     ]
    },
    {
     "name": "stderr",
     "output_type": "stream",
     "text": [
      " 12%|█▎        | 5/40 [00:07<00:54,  1.56s/it]"
     ]
    },
    {
     "name": "stdout",
     "output_type": "stream",
     "text": [
      "test:  tensor(6.3707) 3.17399582862854\n",
      "train:  tensor(12.) 3.0391805171966553\n"
     ]
    },
    {
     "name": "stderr",
     "output_type": "stream",
     "text": [
      " 15%|█▌        | 6/40 [00:09<00:52,  1.55s/it]"
     ]
    },
    {
     "name": "stdout",
     "output_type": "stream",
     "text": [
      "test:  tensor(7.1429) 3.087889385223389\n",
      "train:  tensor(12.) 2.9905405044555664\n"
     ]
    },
    {
     "name": "stderr",
     "output_type": "stream",
     "text": [
      " 18%|█▊        | 7/40 [00:10<00:51,  1.56s/it]"
     ]
    },
    {
     "name": "stdout",
     "output_type": "stream",
     "text": [
      "test:  tensor(7.9151) 3.1470765113830566\n",
      "train:  tensor(19.) 2.8615405559539795\n"
     ]
    },
    {
     "name": "stderr",
     "output_type": "stream",
     "text": [
      " 20%|██        | 8/40 [00:12<00:49,  1.56s/it]"
     ]
    },
    {
     "name": "stdout",
     "output_type": "stream",
     "text": [
      "test:  tensor(9.6525) 3.0680490493774415\n",
      "train:  tensor(25.) 2.76902437210083\n"
     ]
    },
    {
     "name": "stderr",
     "output_type": "stream",
     "text": [
      " 22%|██▎       | 9/40 [00:14<00:48,  1.56s/it]"
     ]
    },
    {
     "name": "stdout",
     "output_type": "stream",
     "text": [
      "test:  tensor(11.3900) 2.936030626296997\n",
      "train:  tensor(27.0000) 2.6793978214263916\n"
     ]
    },
    {
     "name": "stderr",
     "output_type": "stream",
     "text": [
      " 25%|██▌       | 10/40 [00:15<00:46,  1.56s/it]"
     ]
    },
    {
     "name": "stdout",
     "output_type": "stream",
     "text": [
      "test:  tensor(13.7066) 2.8933103561401365\n",
      "train:  tensor(34.) 2.570929765701294\n"
     ]
    },
    {
     "name": "stderr",
     "output_type": "stream",
     "text": [
      " 28%|██▊       | 11/40 [00:17<00:44,  1.55s/it]"
     ]
    },
    {
     "name": "stdout",
     "output_type": "stream",
     "text": [
      "test:  tensor(15.6371) 2.8251014709472657\n",
      "train:  tensor(37.) 2.5132410526275635\n"
     ]
    },
    {
     "name": "stderr",
     "output_type": "stream",
     "text": [
      " 30%|███       | 12/40 [00:18<00:43,  1.55s/it]"
     ]
    },
    {
     "name": "stdout",
     "output_type": "stream",
     "text": [
      "test:  tensor(17.7606) 2.7907477378845216\n",
      "train:  tensor(43.0000) 2.416928768157959\n"
     ]
    },
    {
     "name": "stderr",
     "output_type": "stream",
     "text": [
      " 32%|███▎      | 13/40 [00:20<00:41,  1.55s/it]"
     ]
    },
    {
     "name": "stdout",
     "output_type": "stream",
     "text": [
      "test:  tensor(20.8494) 2.795509147644043\n",
      "train:  tensor(53.0000) 2.3729865550994873\n"
     ]
    },
    {
     "name": "stderr",
     "output_type": "stream",
     "text": [
      " 35%|███▌      | 14/40 [00:21<00:40,  1.56s/it]"
     ]
    },
    {
     "name": "stdout",
     "output_type": "stream",
     "text": [
      "test:  tensor(22.5869) 2.705788516998291\n",
      "train:  tensor(57.) 2.2269628047943115\n"
     ]
    },
    {
     "name": "stderr",
     "output_type": "stream",
     "text": [
      " 38%|███▊      | 15/40 [00:23<00:38,  1.55s/it]"
     ]
    },
    {
     "name": "stdout",
     "output_type": "stream",
     "text": [
      "test:  tensor(24.3243) 2.711904001235962\n",
      "train:  tensor(58.) 2.177650213241577\n"
     ]
    },
    {
     "name": "stderr",
     "output_type": "stream",
     "text": [
      " 40%|████      | 16/40 [00:24<00:37,  1.56s/it]"
     ]
    },
    {
     "name": "stdout",
     "output_type": "stream",
     "text": [
      "test:  tensor(26.0618) 2.66068754196167\n",
      "train:  tensor(65.) 2.128427505493164\n"
     ]
    },
    {
     "name": "stderr",
     "output_type": "stream",
     "text": [
      " 42%|████▎     | 17/40 [00:26<00:35,  1.56s/it]"
     ]
    },
    {
     "name": "stdout",
     "output_type": "stream",
     "text": [
      "test:  tensor(26.8340) 2.612897348403931\n",
      "train:  tensor(69.) 2.038872003555298\n"
     ]
    },
    {
     "name": "stderr",
     "output_type": "stream",
     "text": [
      " 45%|████▌     | 18/40 [00:28<00:34,  1.55s/it]"
     ]
    },
    {
     "name": "stdout",
     "output_type": "stream",
     "text": [
      "test:  tensor(28.7645) 2.612540102005005\n",
      "train:  tensor(70.) 1.9858895540237427\n"
     ]
    },
    {
     "name": "stderr",
     "output_type": "stream",
     "text": [
      " 48%|████▊     | 19/40 [00:29<00:32,  1.55s/it]"
     ]
    },
    {
     "name": "stdout",
     "output_type": "stream",
     "text": [
      "test:  tensor(30.3089) 2.483223628997803\n",
      "train:  tensor(72.) 1.9363417625427246\n"
     ]
    },
    {
     "name": "stderr",
     "output_type": "stream",
     "text": [
      " 50%|█████     | 20/40 [00:31<00:30,  1.55s/it]"
     ]
    },
    {
     "name": "stdout",
     "output_type": "stream",
     "text": [
      "test:  tensor(31.2741) 2.5079375743865966\n",
      "train:  tensor(75.) 1.8485203981399536\n"
     ]
    },
    {
     "name": "stderr",
     "output_type": "stream",
     "text": [
      " 52%|█████▎    | 21/40 [00:32<00:29,  1.54s/it]"
     ]
    },
    {
     "name": "stdout",
     "output_type": "stream",
     "text": [
      "test:  tensor(31.0811) 2.487429714202881\n",
      "train:  tensor(74.) 1.8320926427841187\n"
     ]
    },
    {
     "name": "stderr",
     "output_type": "stream",
     "text": [
      " 55%|█████▌    | 22/40 [00:34<00:27,  1.55s/it]"
     ]
    },
    {
     "name": "stdout",
     "output_type": "stream",
     "text": [
      "test:  tensor(32.6255) 2.4301040172576904\n",
      "train:  tensor(83.) 1.7352464199066162\n"
     ]
    },
    {
     "name": "stderr",
     "output_type": "stream",
     "text": [
      " 57%|█████▊    | 23/40 [00:35<00:26,  1.55s/it]"
     ]
    },
    {
     "name": "stdout",
     "output_type": "stream",
     "text": [
      "test:  tensor(32.8185) 2.4164044857025146\n",
      "train:  tensor(87.) 1.6739602088928223\n"
     ]
    },
    {
     "name": "stderr",
     "output_type": "stream",
     "text": [
      " 60%|██████    | 24/40 [00:37<00:24,  1.55s/it]"
     ]
    },
    {
     "name": "stdout",
     "output_type": "stream",
     "text": [
      "test:  tensor(33.3977) 2.4468355655670164\n",
      "train:  tensor(86.0000) 1.5998294353485107\n"
     ]
    },
    {
     "name": "stderr",
     "output_type": "stream",
     "text": [
      " 62%|██████▎   | 25/40 [00:38<00:23,  1.54s/it]"
     ]
    },
    {
     "name": "stdout",
     "output_type": "stream",
     "text": [
      "test:  tensor(33.5907) 2.4870423316955566\n",
      "train:  tensor(87.) 1.5730395317077637\n"
     ]
    },
    {
     "name": "stderr",
     "output_type": "stream",
     "text": [
      " 65%|██████▌   | 26/40 [00:40<00:21,  1.55s/it]"
     ]
    },
    {
     "name": "stdout",
     "output_type": "stream",
     "text": [
      "test:  tensor(35.1351) 2.413618040084839\n",
      "train:  tensor(86.0000) 1.5237082242965698\n"
     ]
    },
    {
     "name": "stderr",
     "output_type": "stream",
     "text": [
      " 68%|██████▊   | 27/40 [00:42<00:20,  1.56s/it]"
     ]
    },
    {
     "name": "stdout",
     "output_type": "stream",
     "text": [
      "test:  tensor(35.1351) 2.2807663679122925\n",
      "train:  tensor(91.) 1.4669337272644043\n"
     ]
    },
    {
     "name": "stderr",
     "output_type": "stream",
     "text": [
      " 70%|███████   | 28/40 [00:43<00:18,  1.56s/it]"
     ]
    },
    {
     "name": "stdout",
     "output_type": "stream",
     "text": [
      "test:  tensor(35.3282) 2.31563663482666\n",
      "train:  tensor(94.) 1.394215703010559\n"
     ]
    },
    {
     "name": "stderr",
     "output_type": "stream",
     "text": [
      " 72%|███████▎  | 29/40 [00:45<00:17,  1.56s/it]"
     ]
    },
    {
     "name": "stdout",
     "output_type": "stream",
     "text": [
      "test:  tensor(35.7143) 2.3173510074615478\n",
      "train:  tensor(89.) 1.3701772689819336\n"
     ]
    },
    {
     "name": "stderr",
     "output_type": "stream",
     "text": [
      " 75%|███████▌  | 30/40 [00:46<00:15,  1.57s/it]"
     ]
    },
    {
     "name": "stdout",
     "output_type": "stream",
     "text": [
      "test:  tensor(36.1004) 2.3146987438201903\n",
      "train:  tensor(95.) 1.3139219284057617\n"
     ]
    },
    {
     "name": "stderr",
     "output_type": "stream",
     "text": [
      " 78%|███████▊  | 31/40 [00:48<00:14,  1.56s/it]"
     ]
    },
    {
     "name": "stdout",
     "output_type": "stream",
     "text": [
      "test:  tensor(36.1004) 2.284729814529419\n",
      "train:  tensor(92.0000) 1.2769190073013306\n"
     ]
    },
    {
     "name": "stderr",
     "output_type": "stream",
     "text": [
      " 80%|████████  | 32/40 [00:49<00:12,  1.56s/it]"
     ]
    },
    {
     "name": "stdout",
     "output_type": "stream",
     "text": [
      "test:  tensor(36.6795) 2.3058104515075684\n",
      "train:  tensor(92.0000) 1.2597386837005615\n"
     ]
    },
    {
     "name": "stderr",
     "output_type": "stream",
     "text": [
      " 82%|████████▎ | 33/40 [00:51<00:10,  1.55s/it]"
     ]
    },
    {
     "name": "stdout",
     "output_type": "stream",
     "text": [
      "test:  tensor(37.6448) 2.3090025424957275\n",
      "train:  tensor(96.) 1.1979601383209229\n"
     ]
    },
    {
     "name": "stderr",
     "output_type": "stream",
     "text": [
      " 85%|████████▌ | 34/40 [00:52<00:09,  1.56s/it]"
     ]
    },
    {
     "name": "stdout",
     "output_type": "stream",
     "text": [
      "test:  tensor(38.2239) 2.18477201461792\n",
      "train:  tensor(96.) 1.1361417770385742\n"
     ]
    },
    {
     "name": "stderr",
     "output_type": "stream",
     "text": [
      " 88%|████████▊ | 35/40 [00:54<00:07,  1.56s/it]"
     ]
    },
    {
     "name": "stdout",
     "output_type": "stream",
     "text": [
      "test:  tensor(38.6100) 2.2373184680938722\n",
      "train:  tensor(95.) 1.1066319942474365\n"
     ]
    },
    {
     "name": "stderr",
     "output_type": "stream",
     "text": [
      " 90%|█████████ | 36/40 [00:56<00:06,  1.56s/it]"
     ]
    },
    {
     "name": "stdout",
     "output_type": "stream",
     "text": [
      "test:  tensor(38.4170) 2.278513526916504\n",
      "train:  tensor(93.) 1.0943814516067505\n"
     ]
    },
    {
     "name": "stderr",
     "output_type": "stream",
     "text": [
      " 92%|█████████▎| 37/40 [00:57<00:04,  1.56s/it]"
     ]
    },
    {
     "name": "stdout",
     "output_type": "stream",
     "text": [
      "test:  tensor(38.9961) 2.2265177726745606\n",
      "train:  tensor(92.0000) 1.0491719245910645\n"
     ]
    },
    {
     "name": "stderr",
     "output_type": "stream",
     "text": [
      " 95%|█████████▌| 38/40 [00:59<00:03,  1.56s/it]"
     ]
    },
    {
     "name": "stdout",
     "output_type": "stream",
     "text": [
      "test:  tensor(39.1892) 2.106191897392273\n",
      "train:  tensor(94.) 1.0388538837432861\n"
     ]
    },
    {
     "name": "stderr",
     "output_type": "stream",
     "text": [
      " 98%|█████████▊| 39/40 [01:00<00:01,  1.56s/it]"
     ]
    },
    {
     "name": "stdout",
     "output_type": "stream",
     "text": [
      "test:  tensor(39.1892) 2.230818843841553\n",
      "train:  tensor(97.) 0.9560943841934204\n"
     ]
    },
    {
     "name": "stderr",
     "output_type": "stream",
     "text": [
      "100%|██████████| 40/40 [01:02<00:00,  1.56s/it]"
     ]
    },
    {
     "name": "stdout",
     "output_type": "stream",
     "text": [
      "test:  tensor(40.3475) 2.117531442642212\n"
     ]
    },
    {
     "name": "stderr",
     "output_type": "stream",
     "text": [
      "\n"
     ]
    },
    {
     "data": {
      "text/plain": [
       "<Figure size 1400x600 with 0 Axes>"
      ]
     },
     "metadata": {},
     "output_type": "display_data"
    }
   ],
   "source": [
    "run(B_train_dl, B_test_dl, new_model2, index=4, epochs=40, lr=0.0001)"
   ]
  },
  {
   "cell_type": "markdown",
   "metadata": {},
   "source": [
    "#### weights after train "
   ]
  },
  {
   "cell_type": "code",
   "execution_count": 157,
   "metadata": {},
   "outputs": [
    {
     "data": {
      "text/plain": [
       "Parameter containing:\n",
       "tensor([[[[-4.1152e-02,  2.7552e-02,  2.3232e-02],\n",
       "          [-5.0019e-02, -3.7431e-02,  2.7063e-02],\n",
       "          [ 4.6284e-03, -4.1788e-02,  3.4469e-02]],\n",
       "\n",
       "         [[ 1.0118e-03, -3.1182e-02, -1.6825e-02],\n",
       "          [-3.5135e-02, -4.1477e-02,  4.8241e-03],\n",
       "          [ 1.6821e-02, -2.0892e-02, -2.0368e-02]],\n",
       "\n",
       "         [[ 2.6120e-02, -2.7894e-02, -1.2092e-02],\n",
       "          [ 1.3028e-02, -3.5441e-02, -1.2177e-02],\n",
       "          [-3.2591e-02, -2.6870e-02,  3.9030e-02]],\n",
       "\n",
       "         ...,\n",
       "\n",
       "         [[ 2.6396e-02,  3.2726e-02,  7.4274e-03],\n",
       "          [-8.5307e-03, -2.7306e-02, -3.1041e-02],\n",
       "          [-1.1025e-02, -1.9495e-02,  2.3737e-02]],\n",
       "\n",
       "         [[-2.6593e-02,  3.9382e-02, -8.3937e-03],\n",
       "          [-3.1704e-02, -6.0318e-03,  5.3831e-03],\n",
       "          [-4.7803e-02, -4.3978e-02,  5.3610e-06]],\n",
       "\n",
       "         [[-3.1691e-02,  1.3603e-03, -2.7139e-03],\n",
       "          [ 1.4907e-02, -1.9542e-03,  8.6123e-05],\n",
       "          [-7.5084e-03, -3.1214e-03,  1.3781e-02]]],\n",
       "\n",
       "\n",
       "        [[[-1.7927e-02,  1.9769e-02,  4.2579e-02],\n",
       "          [-2.8930e-02,  3.5981e-02,  2.0820e-02],\n",
       "          [ 2.9548e-02,  1.2944e-02,  3.2133e-02]],\n",
       "\n",
       "         [[-1.5885e-02,  2.7101e-02, -3.7205e-02],\n",
       "          [-2.7906e-02, -2.6715e-02, -4.2951e-02],\n",
       "          [ 2.2266e-02, -2.1095e-02, -2.9928e-02]],\n",
       "\n",
       "         [[ 1.3680e-02,  2.5411e-02, -1.1294e-02],\n",
       "          [ 4.3585e-03, -3.0820e-02, -5.8023e-03],\n",
       "          [-4.2573e-02, -7.3253e-03,  1.9332e-02]],\n",
       "\n",
       "         ...,\n",
       "\n",
       "         [[-6.1171e-03,  4.9137e-03, -6.9265e-03],\n",
       "          [ 8.4347e-03,  2.0015e-02, -1.3653e-02],\n",
       "          [-2.0037e-02,  6.1073e-03, -1.5484e-02]],\n",
       "\n",
       "         [[-4.0838e-02,  1.5064e-02,  8.7100e-03],\n",
       "          [ 1.2752e-02,  2.6757e-02,  2.2764e-02],\n",
       "          [-1.7894e-02, -3.8575e-02, -1.2398e-02]],\n",
       "\n",
       "         [[-1.0316e-02,  3.0224e-02,  3.0439e-02],\n",
       "          [-3.5044e-02, -9.6225e-03, -1.2402e-02],\n",
       "          [ 1.5240e-02, -2.3387e-03, -2.0356e-02]]],\n",
       "\n",
       "\n",
       "        [[[-3.3024e-02,  1.7822e-03,  1.5683e-02],\n",
       "          [-2.8512e-02, -1.6244e-02,  3.1097e-02],\n",
       "          [-3.0761e-03, -2.3522e-02, -1.6761e-02]],\n",
       "\n",
       "         [[ 7.3588e-03,  3.6180e-02, -6.3875e-03],\n",
       "          [ 2.1765e-02, -2.0900e-02,  1.6126e-02],\n",
       "          [ 2.7054e-02, -2.6227e-02, -2.3519e-02]],\n",
       "\n",
       "         [[-1.7327e-02,  4.3110e-02,  1.1293e-02],\n",
       "          [ 6.7356e-03, -1.9500e-03,  3.7193e-02],\n",
       "          [-7.7157e-03, -8.4228e-03, -1.3823e-02]],\n",
       "\n",
       "         ...,\n",
       "\n",
       "         [[ 2.6340e-02, -2.4112e-02, -3.3745e-02],\n",
       "          [ 6.3528e-03, -3.6370e-02, -1.9133e-02],\n",
       "          [ 2.3031e-03,  6.1539e-03,  1.6661e-02]],\n",
       "\n",
       "         [[-2.0340e-02,  2.3312e-02,  2.4059e-02],\n",
       "          [-3.3370e-02, -6.7427e-03, -1.0534e-02],\n",
       "          [-2.7578e-02,  2.3654e-02, -2.0710e-03]],\n",
       "\n",
       "         [[-2.8971e-02, -4.0622e-02, -1.7468e-02],\n",
       "          [-3.0773e-02,  1.1268e-02, -6.4800e-03],\n",
       "          [-8.1390e-03,  2.1823e-02, -4.1043e-02]]],\n",
       "\n",
       "\n",
       "        ...,\n",
       "\n",
       "\n",
       "        [[[ 4.1798e-02,  3.3142e-02,  7.8773e-03],\n",
       "          [ 3.0887e-02,  1.3929e-02, -1.4287e-03],\n",
       "          [ 1.0797e-02,  3.6229e-02, -2.8878e-02]],\n",
       "\n",
       "         [[ 1.7388e-02, -3.6152e-03, -3.7886e-03],\n",
       "          [-3.0563e-02,  1.2313e-02, -2.4956e-02],\n",
       "          [ 1.8783e-02, -9.8003e-03,  4.0430e-02]],\n",
       "\n",
       "         [[-5.5371e-03,  3.8516e-02, -3.9180e-03],\n",
       "          [-4.4810e-02, -2.9561e-02,  2.6680e-02],\n",
       "          [ 2.3748e-02,  7.3117e-03,  5.3754e-03]],\n",
       "\n",
       "         ...,\n",
       "\n",
       "         [[-2.9428e-02, -2.6340e-02,  2.2054e-02],\n",
       "          [ 2.9730e-02, -5.8009e-03, -5.3047e-03],\n",
       "          [ 3.6084e-02, -7.5185e-03, -3.1699e-02]],\n",
       "\n",
       "         [[ 1.2368e-02,  1.5588e-02, -2.5278e-02],\n",
       "          [-1.4394e-02,  1.4115e-02,  2.2566e-02],\n",
       "          [ 1.0433e-03,  1.6786e-02,  2.3886e-02]],\n",
       "\n",
       "         [[ 4.0596e-02,  1.2328e-02, -1.7336e-02],\n",
       "          [-2.0097e-02,  2.9363e-02, -2.4195e-02],\n",
       "          [-8.4250e-03, -2.6959e-02,  5.4255e-03]]],\n",
       "\n",
       "\n",
       "        [[[ 2.7258e-02,  2.7796e-02, -1.6095e-02],\n",
       "          [-2.6054e-02,  1.3141e-02,  2.5235e-02],\n",
       "          [-7.9006e-03,  3.8223e-02,  4.3607e-02]],\n",
       "\n",
       "         [[ 1.5138e-02,  3.9561e-02,  4.1891e-02],\n",
       "          [-2.4602e-03,  1.7972e-02,  2.3584e-02],\n",
       "          [-4.1960e-02, -2.3770e-02,  1.2725e-02]],\n",
       "\n",
       "         [[ 9.2981e-03,  5.3241e-03,  1.2143e-02],\n",
       "          [-3.0065e-02,  3.3773e-02,  7.1717e-03],\n",
       "          [-1.9828e-02,  2.5148e-02, -3.4423e-02]],\n",
       "\n",
       "         ...,\n",
       "\n",
       "         [[ 3.2248e-02,  6.1538e-04, -2.2209e-02],\n",
       "          [ 2.5077e-02,  4.1875e-02, -2.2660e-02],\n",
       "          [-2.9481e-02,  3.1082e-02, -2.2682e-02]],\n",
       "\n",
       "         [[-3.4959e-02, -3.5225e-02, -2.6719e-02],\n",
       "          [ 3.5259e-02,  2.5490e-02,  4.2372e-02],\n",
       "          [-2.8054e-02, -2.4147e-02,  2.4567e-02]],\n",
       "\n",
       "         [[ 2.4805e-02,  2.7038e-03,  1.5714e-02],\n",
       "          [ 3.8899e-02, -1.6341e-02,  2.2990e-02],\n",
       "          [ 1.0451e-04,  2.6058e-02,  1.6108e-02]]],\n",
       "\n",
       "\n",
       "        [[[ 2.6657e-03,  2.1839e-02,  3.7075e-02],\n",
       "          [-1.3293e-02, -4.4909e-03, -2.2827e-02],\n",
       "          [-4.3800e-02, -9.6556e-03, -2.1198e-02]],\n",
       "\n",
       "         [[-3.5446e-03,  3.3068e-02,  4.0417e-02],\n",
       "          [ 2.1795e-02,  2.2783e-02, -1.0170e-02],\n",
       "          [-3.3479e-02,  1.0387e-02, -2.7937e-02]],\n",
       "\n",
       "         [[-1.6987e-02, -1.9597e-02, -3.3245e-02],\n",
       "          [ 2.1724e-02,  2.5638e-02, -2.3514e-02],\n",
       "          [-9.4009e-03,  1.2474e-03,  8.2479e-03]],\n",
       "\n",
       "         ...,\n",
       "\n",
       "         [[ 2.9108e-02, -6.7179e-03, -1.3704e-03],\n",
       "          [ 1.8228e-02,  4.9506e-03,  1.4639e-02],\n",
       "          [-3.3055e-02, -3.0774e-02, -2.6141e-02]],\n",
       "\n",
       "         [[-3.4515e-02,  6.6095e-03,  3.9191e-02],\n",
       "          [ 2.3768e-02, -2.7947e-02,  1.7745e-02],\n",
       "          [ 7.9634e-05,  3.0291e-02,  1.8947e-02]],\n",
       "\n",
       "         [[-3.8132e-02,  2.6203e-02,  3.2684e-02],\n",
       "          [ 2.5538e-02, -1.3153e-02, -8.3603e-03],\n",
       "          [ 2.8008e-02,  2.4966e-02,  1.9227e-02]]]], device='cuda:0')"
      ]
     },
     "execution_count": 157,
     "metadata": {},
     "output_type": "execute_result"
    }
   ],
   "source": [
    "new_model2.conv2_1.weight"
   ]
  },
  {
   "cell_type": "code",
   "execution_count": 158,
   "metadata": {},
   "outputs": [
    {
     "data": {
      "text/plain": [
       "Parameter containing:\n",
       "tensor([[-0.0170, -0.0284, -0.0274,  ...,  0.0014,  0.0098, -0.0091],\n",
       "        [ 0.0108,  0.0102,  0.0129,  ..., -0.0309,  0.0114,  0.0098],\n",
       "        [-0.0230, -0.0378, -0.0232,  ...,  0.0085,  0.0016,  0.0020],\n",
       "        ...,\n",
       "        [-0.0024,  0.0171,  0.0120,  ...,  0.0056,  0.0121, -0.0062],\n",
       "        [ 0.0083,  0.0113,  0.0027,  ...,  0.0114,  0.0043,  0.0089],\n",
       "        [-0.0056,  0.0159,  0.0126,  ..., -0.0106,  0.0153, -0.0079]],\n",
       "       device='cuda:0', requires_grad=True)"
      ]
     },
     "execution_count": 158,
     "metadata": {},
     "output_type": "execute_result"
    }
   ],
   "source": [
    "new_model2.fc1.weight"
   ]
  },
  {
   "cell_type": "markdown",
   "metadata": {},
   "source": [
    "#### test on A after train on B with freezing all layers except fc"
   ]
  },
  {
   "cell_type": "code",
   "execution_count": 159,
   "metadata": {},
   "outputs": [
    {
     "name": "stdout",
     "output_type": "stream",
     "text": [
      "tensor(47.3992)\n"
     ]
    }
   ],
   "source": [
    "nm1 = new_model2.to(\"cpu\")\n",
    "epoch_acc, epoch_loss = test_model(nm1, A_test_dl, loss_fn=nn.CrossEntropyLoss(), dir=\"Conf_B2_after_train_A-test\", cpu=True)\n",
    "print(epoch_acc)"
   ]
  },
  {
   "cell_type": "markdown",
   "metadata": {},
   "source": [
    "#### for test all and plot test curve"
   ]
  },
  {
   "cell_type": "code",
   "execution_count": null,
   "metadata": {},
   "outputs": [],
   "source": [
    "run(B_train_dl , test_all, new_model2, index=5, epochs=20, lr=0.0001, cm=True, dir=\"CM2\")"
   ]
  },
  {
   "cell_type": "markdown",
   "metadata": {},
   "source": [
    "## Third Way"
   ]
  },
  {
   "cell_type": "code",
   "execution_count": 160,
   "metadata": {},
   "outputs": [],
   "source": [
    "new_model3 = transfer_learning(my_model, freeze=True)"
   ]
  },
  {
   "cell_type": "markdown",
   "metadata": {},
   "source": [
    "##### weights after transfer"
   ]
  },
  {
   "cell_type": "code",
   "execution_count": 161,
   "metadata": {},
   "outputs": [
    {
     "data": {
      "text/plain": [
       "Parameter containing:\n",
       "tensor([[[[-4.1152e-02,  2.7552e-02,  2.3232e-02],\n",
       "          [-5.0019e-02, -3.7431e-02,  2.7063e-02],\n",
       "          [ 4.6284e-03, -4.1788e-02,  3.4469e-02]],\n",
       "\n",
       "         [[ 1.0118e-03, -3.1182e-02, -1.6825e-02],\n",
       "          [-3.5135e-02, -4.1477e-02,  4.8241e-03],\n",
       "          [ 1.6821e-02, -2.0892e-02, -2.0368e-02]],\n",
       "\n",
       "         [[ 2.6120e-02, -2.7894e-02, -1.2092e-02],\n",
       "          [ 1.3028e-02, -3.5441e-02, -1.2177e-02],\n",
       "          [-3.2591e-02, -2.6870e-02,  3.9030e-02]],\n",
       "\n",
       "         ...,\n",
       "\n",
       "         [[ 2.6396e-02,  3.2726e-02,  7.4274e-03],\n",
       "          [-8.5307e-03, -2.7306e-02, -3.1041e-02],\n",
       "          [-1.1025e-02, -1.9495e-02,  2.3737e-02]],\n",
       "\n",
       "         [[-2.6593e-02,  3.9382e-02, -8.3937e-03],\n",
       "          [-3.1704e-02, -6.0318e-03,  5.3831e-03],\n",
       "          [-4.7803e-02, -4.3978e-02,  5.3610e-06]],\n",
       "\n",
       "         [[-3.1691e-02,  1.3603e-03, -2.7139e-03],\n",
       "          [ 1.4907e-02, -1.9542e-03,  8.6123e-05],\n",
       "          [-7.5084e-03, -3.1214e-03,  1.3781e-02]]],\n",
       "\n",
       "\n",
       "        [[[-1.7927e-02,  1.9769e-02,  4.2579e-02],\n",
       "          [-2.8930e-02,  3.5981e-02,  2.0820e-02],\n",
       "          [ 2.9548e-02,  1.2944e-02,  3.2133e-02]],\n",
       "\n",
       "         [[-1.5885e-02,  2.7101e-02, -3.7205e-02],\n",
       "          [-2.7906e-02, -2.6715e-02, -4.2951e-02],\n",
       "          [ 2.2266e-02, -2.1095e-02, -2.9928e-02]],\n",
       "\n",
       "         [[ 1.3680e-02,  2.5411e-02, -1.1294e-02],\n",
       "          [ 4.3585e-03, -3.0820e-02, -5.8023e-03],\n",
       "          [-4.2573e-02, -7.3253e-03,  1.9332e-02]],\n",
       "\n",
       "         ...,\n",
       "\n",
       "         [[-6.1171e-03,  4.9137e-03, -6.9265e-03],\n",
       "          [ 8.4347e-03,  2.0015e-02, -1.3653e-02],\n",
       "          [-2.0037e-02,  6.1073e-03, -1.5484e-02]],\n",
       "\n",
       "         [[-4.0838e-02,  1.5064e-02,  8.7100e-03],\n",
       "          [ 1.2752e-02,  2.6757e-02,  2.2764e-02],\n",
       "          [-1.7894e-02, -3.8575e-02, -1.2398e-02]],\n",
       "\n",
       "         [[-1.0316e-02,  3.0224e-02,  3.0439e-02],\n",
       "          [-3.5044e-02, -9.6225e-03, -1.2402e-02],\n",
       "          [ 1.5240e-02, -2.3387e-03, -2.0356e-02]]],\n",
       "\n",
       "\n",
       "        [[[-3.3024e-02,  1.7822e-03,  1.5683e-02],\n",
       "          [-2.8512e-02, -1.6244e-02,  3.1097e-02],\n",
       "          [-3.0761e-03, -2.3522e-02, -1.6761e-02]],\n",
       "\n",
       "         [[ 7.3588e-03,  3.6180e-02, -6.3875e-03],\n",
       "          [ 2.1765e-02, -2.0900e-02,  1.6126e-02],\n",
       "          [ 2.7054e-02, -2.6227e-02, -2.3519e-02]],\n",
       "\n",
       "         [[-1.7327e-02,  4.3110e-02,  1.1293e-02],\n",
       "          [ 6.7356e-03, -1.9500e-03,  3.7193e-02],\n",
       "          [-7.7157e-03, -8.4228e-03, -1.3823e-02]],\n",
       "\n",
       "         ...,\n",
       "\n",
       "         [[ 2.6340e-02, -2.4112e-02, -3.3745e-02],\n",
       "          [ 6.3528e-03, -3.6370e-02, -1.9133e-02],\n",
       "          [ 2.3031e-03,  6.1539e-03,  1.6661e-02]],\n",
       "\n",
       "         [[-2.0340e-02,  2.3312e-02,  2.4059e-02],\n",
       "          [-3.3370e-02, -6.7427e-03, -1.0534e-02],\n",
       "          [-2.7578e-02,  2.3654e-02, -2.0710e-03]],\n",
       "\n",
       "         [[-2.8971e-02, -4.0622e-02, -1.7468e-02],\n",
       "          [-3.0773e-02,  1.1268e-02, -6.4800e-03],\n",
       "          [-8.1390e-03,  2.1823e-02, -4.1043e-02]]],\n",
       "\n",
       "\n",
       "        ...,\n",
       "\n",
       "\n",
       "        [[[ 4.1798e-02,  3.3142e-02,  7.8773e-03],\n",
       "          [ 3.0887e-02,  1.3929e-02, -1.4287e-03],\n",
       "          [ 1.0797e-02,  3.6229e-02, -2.8878e-02]],\n",
       "\n",
       "         [[ 1.7388e-02, -3.6152e-03, -3.7886e-03],\n",
       "          [-3.0563e-02,  1.2313e-02, -2.4956e-02],\n",
       "          [ 1.8783e-02, -9.8003e-03,  4.0430e-02]],\n",
       "\n",
       "         [[-5.5371e-03,  3.8516e-02, -3.9180e-03],\n",
       "          [-4.4810e-02, -2.9561e-02,  2.6680e-02],\n",
       "          [ 2.3748e-02,  7.3117e-03,  5.3754e-03]],\n",
       "\n",
       "         ...,\n",
       "\n",
       "         [[-2.9428e-02, -2.6340e-02,  2.2054e-02],\n",
       "          [ 2.9730e-02, -5.8009e-03, -5.3047e-03],\n",
       "          [ 3.6084e-02, -7.5185e-03, -3.1699e-02]],\n",
       "\n",
       "         [[ 1.2368e-02,  1.5588e-02, -2.5278e-02],\n",
       "          [-1.4394e-02,  1.4115e-02,  2.2566e-02],\n",
       "          [ 1.0433e-03,  1.6786e-02,  2.3886e-02]],\n",
       "\n",
       "         [[ 4.0596e-02,  1.2328e-02, -1.7336e-02],\n",
       "          [-2.0097e-02,  2.9363e-02, -2.4195e-02],\n",
       "          [-8.4250e-03, -2.6959e-02,  5.4255e-03]]],\n",
       "\n",
       "\n",
       "        [[[ 2.7258e-02,  2.7796e-02, -1.6095e-02],\n",
       "          [-2.6054e-02,  1.3141e-02,  2.5235e-02],\n",
       "          [-7.9006e-03,  3.8223e-02,  4.3607e-02]],\n",
       "\n",
       "         [[ 1.5138e-02,  3.9561e-02,  4.1891e-02],\n",
       "          [-2.4602e-03,  1.7972e-02,  2.3584e-02],\n",
       "          [-4.1960e-02, -2.3770e-02,  1.2725e-02]],\n",
       "\n",
       "         [[ 9.2981e-03,  5.3241e-03,  1.2143e-02],\n",
       "          [-3.0065e-02,  3.3773e-02,  7.1717e-03],\n",
       "          [-1.9828e-02,  2.5148e-02, -3.4423e-02]],\n",
       "\n",
       "         ...,\n",
       "\n",
       "         [[ 3.2248e-02,  6.1538e-04, -2.2209e-02],\n",
       "          [ 2.5077e-02,  4.1875e-02, -2.2660e-02],\n",
       "          [-2.9481e-02,  3.1082e-02, -2.2682e-02]],\n",
       "\n",
       "         [[-3.4959e-02, -3.5225e-02, -2.6719e-02],\n",
       "          [ 3.5259e-02,  2.5490e-02,  4.2372e-02],\n",
       "          [-2.8054e-02, -2.4147e-02,  2.4567e-02]],\n",
       "\n",
       "         [[ 2.4805e-02,  2.7038e-03,  1.5714e-02],\n",
       "          [ 3.8899e-02, -1.6341e-02,  2.2990e-02],\n",
       "          [ 1.0451e-04,  2.6058e-02,  1.6108e-02]]],\n",
       "\n",
       "\n",
       "        [[[ 2.6657e-03,  2.1839e-02,  3.7075e-02],\n",
       "          [-1.3293e-02, -4.4909e-03, -2.2827e-02],\n",
       "          [-4.3800e-02, -9.6556e-03, -2.1198e-02]],\n",
       "\n",
       "         [[-3.5446e-03,  3.3068e-02,  4.0417e-02],\n",
       "          [ 2.1795e-02,  2.2783e-02, -1.0170e-02],\n",
       "          [-3.3479e-02,  1.0387e-02, -2.7937e-02]],\n",
       "\n",
       "         [[-1.6987e-02, -1.9597e-02, -3.3245e-02],\n",
       "          [ 2.1724e-02,  2.5638e-02, -2.3514e-02],\n",
       "          [-9.4009e-03,  1.2474e-03,  8.2479e-03]],\n",
       "\n",
       "         ...,\n",
       "\n",
       "         [[ 2.9108e-02, -6.7179e-03, -1.3704e-03],\n",
       "          [ 1.8228e-02,  4.9506e-03,  1.4639e-02],\n",
       "          [-3.3055e-02, -3.0774e-02, -2.6141e-02]],\n",
       "\n",
       "         [[-3.4515e-02,  6.6095e-03,  3.9191e-02],\n",
       "          [ 2.3768e-02, -2.7947e-02,  1.7745e-02],\n",
       "          [ 7.9634e-05,  3.0291e-02,  1.8947e-02]],\n",
       "\n",
       "         [[-3.8132e-02,  2.6203e-02,  3.2684e-02],\n",
       "          [ 2.5538e-02, -1.3153e-02, -8.3603e-03],\n",
       "          [ 2.8008e-02,  2.4966e-02,  1.9227e-02]]]], device='cuda:0')"
      ]
     },
     "execution_count": 161,
     "metadata": {},
     "output_type": "execute_result"
    }
   ],
   "source": [
    "new_model3.conv2_1.weight"
   ]
  },
  {
   "cell_type": "code",
   "execution_count": 162,
   "metadata": {},
   "outputs": [
    {
     "data": {
      "text/plain": [
       "Parameter containing:\n",
       "tensor([[-0.0148, -0.0265, -0.0253,  ...,  0.0032,  0.0118, -0.0070],\n",
       "        [ 0.0125,  0.0121,  0.0150,  ..., -0.0289,  0.0135,  0.0117],\n",
       "        [-0.0210, -0.0359, -0.0215,  ...,  0.0106,  0.0034,  0.0037],\n",
       "        ...,\n",
       "        [-0.0082,  0.0088, -0.0012,  ...,  0.0147, -0.0134,  0.0134],\n",
       "        [ 0.0123,  0.0021,  0.0028,  ..., -0.0142,  0.0143, -0.0069],\n",
       "        [ 0.0066,  0.0025, -0.0051,  ..., -0.0004,  0.0048,  0.0136]],\n",
       "       requires_grad=True)"
      ]
     },
     "execution_count": 162,
     "metadata": {},
     "output_type": "execute_result"
    }
   ],
   "source": [
    "new_model3.fc1.weight"
   ]
  },
  {
   "cell_type": "markdown",
   "metadata": {},
   "source": [
    "### train third model "
   ]
  },
  {
   "cell_type": "code",
   "execution_count": 163,
   "metadata": {},
   "outputs": [
    {
     "name": "stderr",
     "output_type": "stream",
     "text": [
      "  0%|          | 0/50 [00:00<?, ?it/s]"
     ]
    },
    {
     "name": "stdout",
     "output_type": "stream",
     "text": [
      "train:  tensor(4.) 3.7633426189422607\n"
     ]
    },
    {
     "name": "stderr",
     "output_type": "stream",
     "text": [
      "  2%|▏         | 1/50 [00:01<01:27,  1.78s/it]"
     ]
    },
    {
     "name": "stdout",
     "output_type": "stream",
     "text": [
      "test:  tensor(2.7027) 3.6670021533966066\n",
      "train:  tensor(5.0000) 3.632528781890869\n"
     ]
    },
    {
     "name": "stderr",
     "output_type": "stream",
     "text": [
      "  4%|▍         | 2/50 [00:03<01:18,  1.65s/it]"
     ]
    },
    {
     "name": "stdout",
     "output_type": "stream",
     "text": [
      "test:  tensor(2.8958) 3.5799498558044434\n",
      "train:  tensor(6.) 3.5751843452453613\n"
     ]
    },
    {
     "name": "stderr",
     "output_type": "stream",
     "text": [
      "  6%|▌         | 3/50 [00:04<01:15,  1.62s/it]"
     ]
    },
    {
     "name": "stdout",
     "output_type": "stream",
     "text": [
      "test:  tensor(3.4749) 3.504531145095825\n",
      "train:  tensor(4.) 3.494377851486206\n"
     ]
    },
    {
     "name": "stderr",
     "output_type": "stream",
     "text": [
      "  8%|▊         | 4/50 [00:06<01:13,  1.60s/it]"
     ]
    },
    {
     "name": "stdout",
     "output_type": "stream",
     "text": [
      "test:  tensor(4.2471) 3.3851584434509276\n",
      "train:  tensor(6.) 3.415786027908325\n"
     ]
    },
    {
     "name": "stderr",
     "output_type": "stream",
     "text": [
      " 10%|█         | 5/50 [00:08<01:11,  1.59s/it]"
     ]
    },
    {
     "name": "stdout",
     "output_type": "stream",
     "text": [
      "test:  tensor(4.8263) 3.430712270736694\n",
      "train:  tensor(10.0000) 3.3008315563201904\n"
     ]
    },
    {
     "name": "stderr",
     "output_type": "stream",
     "text": [
      " 12%|█▏        | 6/50 [00:09<01:10,  1.59s/it]"
     ]
    },
    {
     "name": "stdout",
     "output_type": "stream",
     "text": [
      "test:  tensor(5.0193) 3.3640034198760986\n",
      "train:  tensor(8.) 3.2823526859283447\n"
     ]
    },
    {
     "name": "stderr",
     "output_type": "stream",
     "text": [
      " 14%|█▍        | 7/50 [00:11<01:08,  1.58s/it]"
     ]
    },
    {
     "name": "stdout",
     "output_type": "stream",
     "text": [
      "test:  tensor(5.5985) 3.2963839530944825\n",
      "train:  tensor(13.) 3.0998106002807617\n"
     ]
    },
    {
     "name": "stderr",
     "output_type": "stream",
     "text": [
      " 16%|█▌        | 8/50 [00:12<01:06,  1.59s/it]"
     ]
    },
    {
     "name": "stdout",
     "output_type": "stream",
     "text": [
      "test:  tensor(6.5637) 3.3062639236450195\n",
      "train:  tensor(17.) 3.0686142444610596\n"
     ]
    },
    {
     "name": "stderr",
     "output_type": "stream",
     "text": [
      " 18%|█▊        | 9/50 [00:14<01:04,  1.58s/it]"
     ]
    },
    {
     "name": "stdout",
     "output_type": "stream",
     "text": [
      "test:  tensor(7.7220) 3.1331418991088866\n",
      "train:  tensor(16.) 2.9680557250976562\n"
     ]
    },
    {
     "name": "stderr",
     "output_type": "stream",
     "text": [
      " 20%|██        | 10/50 [00:15<01:03,  1.58s/it]"
     ]
    },
    {
     "name": "stdout",
     "output_type": "stream",
     "text": [
      "test:  tensor(8.6873) 3.165080451965332\n",
      "train:  tensor(19.) 2.931849479675293\n"
     ]
    },
    {
     "name": "stderr",
     "output_type": "stream",
     "text": [
      " 22%|██▏       | 11/50 [00:17<01:01,  1.57s/it]"
     ]
    },
    {
     "name": "stdout",
     "output_type": "stream",
     "text": [
      "test:  tensor(9.2664) 3.2517873287200927\n",
      "train:  tensor(26.) 2.844069719314575\n"
     ]
    },
    {
     "name": "stderr",
     "output_type": "stream",
     "text": [
      " 24%|██▍       | 12/50 [00:19<00:59,  1.57s/it]"
     ]
    },
    {
     "name": "stdout",
     "output_type": "stream",
     "text": [
      "test:  tensor(10.0386) 3.1183118343353273\n",
      "train:  tensor(24.) 2.7437124252319336\n"
     ]
    },
    {
     "name": "stderr",
     "output_type": "stream",
     "text": [
      " 26%|██▌       | 13/50 [00:20<00:57,  1.56s/it]"
     ]
    },
    {
     "name": "stdout",
     "output_type": "stream",
     "text": [
      "test:  tensor(10.4247) 3.195771265029907\n",
      "train:  tensor(28.) 2.690646171569824\n"
     ]
    },
    {
     "name": "stderr",
     "output_type": "stream",
     "text": [
      " 28%|██▊       | 14/50 [00:22<00:56,  1.56s/it]"
     ]
    },
    {
     "name": "stdout",
     "output_type": "stream",
     "text": [
      "test:  tensor(11.1969) 3.1293596744537355\n",
      "train:  tensor(28.) 2.6335134506225586\n"
     ]
    },
    {
     "name": "stderr",
     "output_type": "stream",
     "text": [
      " 30%|███       | 15/50 [00:23<00:54,  1.57s/it]"
     ]
    },
    {
     "name": "stdout",
     "output_type": "stream",
     "text": [
      "test:  tensor(11.3900) 3.0079551219940184\n",
      "train:  tensor(29.) 2.586172103881836\n"
     ]
    },
    {
     "name": "stderr",
     "output_type": "stream",
     "text": [
      " 32%|███▏      | 16/50 [00:25<00:53,  1.56s/it]"
     ]
    },
    {
     "name": "stdout",
     "output_type": "stream",
     "text": [
      "test:  tensor(12.5483) 2.963643503189087\n",
      "train:  tensor(34.) 2.472047805786133\n"
     ]
    },
    {
     "name": "stderr",
     "output_type": "stream",
     "text": [
      " 34%|███▍      | 17/50 [00:26<00:51,  1.56s/it]"
     ]
    },
    {
     "name": "stdout",
     "output_type": "stream",
     "text": [
      "test:  tensor(13.7066) 3.052238178253174\n",
      "train:  tensor(40.0000) 2.4068422317504883\n"
     ]
    },
    {
     "name": "stderr",
     "output_type": "stream",
     "text": [
      " 36%|███▌      | 18/50 [00:28<00:50,  1.57s/it]"
     ]
    },
    {
     "name": "stdout",
     "output_type": "stream",
     "text": [
      "test:  tensor(14.0927) 2.988345670700073\n",
      "train:  tensor(48.) 2.306119680404663\n"
     ]
    },
    {
     "name": "stderr",
     "output_type": "stream",
     "text": [
      " 38%|███▊      | 19/50 [00:30<00:48,  1.57s/it]"
     ]
    },
    {
     "name": "stdout",
     "output_type": "stream",
     "text": [
      "test:  tensor(15.8301) 2.9665701389312744\n",
      "train:  tensor(52.) 2.273719549179077\n"
     ]
    },
    {
     "name": "stderr",
     "output_type": "stream",
     "text": [
      " 40%|████      | 20/50 [00:31<00:46,  1.56s/it]"
     ]
    },
    {
     "name": "stdout",
     "output_type": "stream",
     "text": [
      "test:  tensor(17.7606) 2.781074333190918\n",
      "train:  tensor(48.) 2.186476469039917\n"
     ]
    },
    {
     "name": "stderr",
     "output_type": "stream",
     "text": [
      " 42%|████▏     | 21/50 [00:33<00:45,  1.57s/it]"
     ]
    },
    {
     "name": "stdout",
     "output_type": "stream",
     "text": [
      "test:  tensor(18.5328) 2.7545422077178956\n",
      "train:  tensor(52.) 2.149423599243164\n"
     ]
    },
    {
     "name": "stderr",
     "output_type": "stream",
     "text": [
      " 44%|████▍     | 22/50 [00:34<00:43,  1.57s/it]"
     ]
    },
    {
     "name": "stdout",
     "output_type": "stream",
     "text": [
      "test:  tensor(19.6911) 2.7425349712371827\n",
      "train:  tensor(53.0000) 2.132357358932495\n"
     ]
    },
    {
     "name": "stderr",
     "output_type": "stream",
     "text": [
      " 46%|████▌     | 23/50 [00:36<00:42,  1.57s/it]"
     ]
    },
    {
     "name": "stdout",
     "output_type": "stream",
     "text": [
      "test:  tensor(20.0772) 2.718258810043335\n",
      "train:  tensor(67.0000) 1.9725656509399414\n"
     ]
    },
    {
     "name": "stderr",
     "output_type": "stream",
     "text": [
      " 48%|████▊     | 24/50 [00:37<00:40,  1.57s/it]"
     ]
    },
    {
     "name": "stdout",
     "output_type": "stream",
     "text": [
      "test:  tensor(21.0425) 2.7590802669525147\n",
      "train:  tensor(67.0000) 1.9564793109893799\n"
     ]
    },
    {
     "name": "stderr",
     "output_type": "stream",
     "text": [
      " 50%|█████     | 25/50 [00:39<00:39,  1.57s/it]"
     ]
    },
    {
     "name": "stdout",
     "output_type": "stream",
     "text": [
      "test:  tensor(22.0077) 2.6372655868530273\n",
      "train:  tensor(63.) 1.9150112867355347\n"
     ]
    },
    {
     "name": "stderr",
     "output_type": "stream",
     "text": [
      " 52%|█████▏    | 26/50 [00:41<00:37,  1.57s/it]"
     ]
    },
    {
     "name": "stdout",
     "output_type": "stream",
     "text": [
      "test:  tensor(22.9730) 2.643167781829834\n",
      "train:  tensor(64.) 1.8913525342941284\n"
     ]
    },
    {
     "name": "stderr",
     "output_type": "stream",
     "text": [
      " 54%|█████▍    | 27/50 [00:42<00:36,  1.57s/it]"
     ]
    },
    {
     "name": "stdout",
     "output_type": "stream",
     "text": [
      "test:  tensor(23.3591) 2.6880624771118162\n",
      "train:  tensor(73.0000) 1.7579536437988281\n"
     ]
    },
    {
     "name": "stderr",
     "output_type": "stream",
     "text": [
      " 56%|█████▌    | 28/50 [00:44<00:34,  1.57s/it]"
     ]
    },
    {
     "name": "stdout",
     "output_type": "stream",
     "text": [
      "test:  tensor(24.1313) 2.615520191192627\n",
      "train:  tensor(69.) 1.7693709135055542\n"
     ]
    },
    {
     "name": "stderr",
     "output_type": "stream",
     "text": [
      " 58%|█████▊    | 29/50 [00:45<00:32,  1.57s/it]"
     ]
    },
    {
     "name": "stdout",
     "output_type": "stream",
     "text": [
      "test:  tensor(24.7104) 2.625764989852905\n",
      "train:  tensor(72.) 1.6677772998809814\n"
     ]
    },
    {
     "name": "stderr",
     "output_type": "stream",
     "text": [
      " 60%|██████    | 30/50 [00:47<00:31,  1.58s/it]"
     ]
    },
    {
     "name": "stdout",
     "output_type": "stream",
     "text": [
      "test:  tensor(26.4479) 2.632811164855957\n",
      "train:  tensor(74.) 1.6390678882598877\n"
     ]
    },
    {
     "name": "stderr",
     "output_type": "stream",
     "text": [
      " 62%|██████▏   | 31/50 [00:48<00:30,  1.58s/it]"
     ]
    },
    {
     "name": "stdout",
     "output_type": "stream",
     "text": [
      "test:  tensor(27.0270) 2.5469154834747316\n",
      "train:  tensor(77.) 1.5809913873672485\n"
     ]
    },
    {
     "name": "stderr",
     "output_type": "stream",
     "text": [
      " 64%|██████▍   | 32/50 [00:50<00:28,  1.59s/it]"
     ]
    },
    {
     "name": "stdout",
     "output_type": "stream",
     "text": [
      "test:  tensor(27.7992) 2.5070052623748778\n",
      "train:  tensor(75.) 1.5374822616577148\n"
     ]
    },
    {
     "name": "stderr",
     "output_type": "stream",
     "text": [
      " 66%|██████▌   | 33/50 [00:52<00:27,  1.60s/it]"
     ]
    },
    {
     "name": "stdout",
     "output_type": "stream",
     "text": [
      "test:  tensor(28.3784) 2.53343186378479\n",
      "train:  tensor(78.) 1.5074254274368286\n"
     ]
    },
    {
     "name": "stderr",
     "output_type": "stream",
     "text": [
      " 68%|██████▊   | 34/50 [00:53<00:25,  1.59s/it]"
     ]
    },
    {
     "name": "stdout",
     "output_type": "stream",
     "text": [
      "test:  tensor(29.5367) 2.4397231101989747\n",
      "train:  tensor(83.) 1.430891513824463\n"
     ]
    },
    {
     "name": "stderr",
     "output_type": "stream",
     "text": [
      " 70%|███████   | 35/50 [00:55<00:23,  1.59s/it]"
     ]
    },
    {
     "name": "stdout",
     "output_type": "stream",
     "text": [
      "test:  tensor(30.3089) 2.4404768466949465\n",
      "train:  tensor(80.0000) 1.4062846899032593\n"
     ]
    },
    {
     "name": "stderr",
     "output_type": "stream",
     "text": [
      " 72%|███████▏  | 36/50 [00:56<00:22,  1.59s/it]"
     ]
    },
    {
     "name": "stdout",
     "output_type": "stream",
     "text": [
      "test:  tensor(30.6950) 2.4890787601470947\n",
      "train:  tensor(77.) 1.3621617555618286\n"
     ]
    },
    {
     "name": "stderr",
     "output_type": "stream",
     "text": [
      " 74%|███████▍  | 37/50 [00:58<00:20,  1.57s/it]"
     ]
    },
    {
     "name": "stdout",
     "output_type": "stream",
     "text": [
      "test:  tensor(31.0811) 2.4156789779663086\n",
      "train:  tensor(81.) 1.31526517868042\n"
     ]
    },
    {
     "name": "stderr",
     "output_type": "stream",
     "text": [
      " 76%|███████▌  | 38/50 [00:59<00:18,  1.57s/it]"
     ]
    },
    {
     "name": "stdout",
     "output_type": "stream",
     "text": [
      "test:  tensor(31.8533) 2.435846948623657\n",
      "train:  tensor(85.) 1.2504937648773193\n"
     ]
    },
    {
     "name": "stderr",
     "output_type": "stream",
     "text": [
      " 78%|███████▊  | 39/50 [01:01<00:17,  1.58s/it]"
     ]
    },
    {
     "name": "stdout",
     "output_type": "stream",
     "text": [
      "test:  tensor(32.2394) 2.37402548789978\n",
      "train:  tensor(82.) 1.240095615386963\n"
     ]
    },
    {
     "name": "stderr",
     "output_type": "stream",
     "text": [
      " 80%|████████  | 40/50 [01:03<00:15,  1.58s/it]"
     ]
    },
    {
     "name": "stdout",
     "output_type": "stream",
     "text": [
      "test:  tensor(33.2046) 2.3569030284881594\n",
      "train:  tensor(81.) 1.194214105606079\n"
     ]
    },
    {
     "name": "stderr",
     "output_type": "stream",
     "text": [
      " 82%|████████▏ | 41/50 [01:04<00:14,  1.57s/it]"
     ]
    },
    {
     "name": "stdout",
     "output_type": "stream",
     "text": [
      "test:  tensor(33.2046) 2.3724224090576174\n",
      "train:  tensor(82.) 1.1641690731048584\n"
     ]
    },
    {
     "name": "stderr",
     "output_type": "stream",
     "text": [
      " 84%|████████▍ | 42/50 [01:06<00:12,  1.57s/it]"
     ]
    },
    {
     "name": "stdout",
     "output_type": "stream",
     "text": [
      "test:  tensor(33.2046) 2.2094027757644654\n",
      "train:  tensor(82.) 1.1094721555709839\n"
     ]
    },
    {
     "name": "stderr",
     "output_type": "stream",
     "text": [
      " 86%|████████▌ | 43/50 [01:07<00:10,  1.56s/it]"
     ]
    },
    {
     "name": "stdout",
     "output_type": "stream",
     "text": [
      "test:  tensor(33.3977) 2.379234027862549\n",
      "train:  tensor(89.) 1.072819709777832\n"
     ]
    },
    {
     "name": "stderr",
     "output_type": "stream",
     "text": [
      " 88%|████████▊ | 44/50 [01:09<00:09,  1.56s/it]"
     ]
    },
    {
     "name": "stdout",
     "output_type": "stream",
     "text": [
      "test:  tensor(33.3977) 2.4557605743408204\n",
      "train:  tensor(87.) 1.0788905620574951\n"
     ]
    },
    {
     "name": "stderr",
     "output_type": "stream",
     "text": [
      " 90%|█████████ | 45/50 [01:10<00:07,  1.57s/it]"
     ]
    },
    {
     "name": "stdout",
     "output_type": "stream",
     "text": [
      "test:  tensor(33.3977) 2.339921474456787\n",
      "train:  tensor(88.) 0.9993700981140137\n"
     ]
    },
    {
     "name": "stderr",
     "output_type": "stream",
     "text": [
      " 92%|█████████▏| 46/50 [01:12<00:06,  1.56s/it]"
     ]
    },
    {
     "name": "stdout",
     "output_type": "stream",
     "text": [
      "test:  tensor(33.7838) 2.390343952178955\n",
      "train:  tensor(91.) 0.9773685336112976\n"
     ]
    },
    {
     "name": "stderr",
     "output_type": "stream",
     "text": [
      " 94%|█████████▍| 47/50 [01:14<00:04,  1.56s/it]"
     ]
    },
    {
     "name": "stdout",
     "output_type": "stream",
     "text": [
      "test:  tensor(34.1699) 2.327823352813721\n",
      "train:  tensor(91.) 0.9353179335594177\n"
     ]
    },
    {
     "name": "stderr",
     "output_type": "stream",
     "text": [
      " 96%|█████████▌| 48/50 [01:15<00:03,  1.57s/it]"
     ]
    },
    {
     "name": "stdout",
     "output_type": "stream",
     "text": [
      "test:  tensor(35.1351) 2.1798791170120237\n",
      "train:  tensor(88.) 0.935096025466919\n"
     ]
    },
    {
     "name": "stderr",
     "output_type": "stream",
     "text": [
      " 98%|█████████▊| 49/50 [01:17<00:01,  1.56s/it]"
     ]
    },
    {
     "name": "stdout",
     "output_type": "stream",
     "text": [
      "test:  tensor(35.5212) 2.228701448440552\n",
      "train:  tensor(88.) 0.9179799556732178\n"
     ]
    },
    {
     "name": "stderr",
     "output_type": "stream",
     "text": [
      "100%|██████████| 50/50 [01:18<00:00,  1.57s/it]"
     ]
    },
    {
     "name": "stdout",
     "output_type": "stream",
     "text": [
      "test:  tensor(35.5212) 2.335897159576416\n"
     ]
    },
    {
     "name": "stderr",
     "output_type": "stream",
     "text": [
      "\n"
     ]
    },
    {
     "data": {
      "text/plain": [
       "<Figure size 1400x600 with 0 Axes>"
      ]
     },
     "metadata": {},
     "output_type": "display_data"
    }
   ],
   "source": [
    "run(B_train_dl, B_test_dl, new_model3, index=21, epochs=50, lr=0.0001, freeze_fc=True)"
   ]
  },
  {
   "cell_type": "markdown",
   "metadata": {},
   "source": [
    "##### check the weights after train the model"
   ]
  },
  {
   "cell_type": "code",
   "execution_count": 164,
   "metadata": {},
   "outputs": [
    {
     "data": {
      "text/plain": [
       "Parameter containing:\n",
       "tensor([[[[-4.1152e-02,  2.7552e-02,  2.3232e-02],\n",
       "          [-5.0019e-02, -3.7431e-02,  2.7063e-02],\n",
       "          [ 4.6284e-03, -4.1788e-02,  3.4469e-02]],\n",
       "\n",
       "         [[ 1.0118e-03, -3.1182e-02, -1.6825e-02],\n",
       "          [-3.5135e-02, -4.1477e-02,  4.8241e-03],\n",
       "          [ 1.6821e-02, -2.0892e-02, -2.0368e-02]],\n",
       "\n",
       "         [[ 2.6120e-02, -2.7894e-02, -1.2092e-02],\n",
       "          [ 1.3028e-02, -3.5441e-02, -1.2177e-02],\n",
       "          [-3.2591e-02, -2.6870e-02,  3.9030e-02]],\n",
       "\n",
       "         ...,\n",
       "\n",
       "         [[ 2.6396e-02,  3.2726e-02,  7.4274e-03],\n",
       "          [-8.5307e-03, -2.7306e-02, -3.1041e-02],\n",
       "          [-1.1025e-02, -1.9495e-02,  2.3737e-02]],\n",
       "\n",
       "         [[-2.6593e-02,  3.9382e-02, -8.3937e-03],\n",
       "          [-3.1704e-02, -6.0318e-03,  5.3831e-03],\n",
       "          [-4.7803e-02, -4.3978e-02,  5.3610e-06]],\n",
       "\n",
       "         [[-3.1691e-02,  1.3603e-03, -2.7139e-03],\n",
       "          [ 1.4907e-02, -1.9542e-03,  8.6123e-05],\n",
       "          [-7.5084e-03, -3.1214e-03,  1.3781e-02]]],\n",
       "\n",
       "\n",
       "        [[[-1.7927e-02,  1.9769e-02,  4.2579e-02],\n",
       "          [-2.8930e-02,  3.5981e-02,  2.0820e-02],\n",
       "          [ 2.9548e-02,  1.2944e-02,  3.2133e-02]],\n",
       "\n",
       "         [[-1.5885e-02,  2.7101e-02, -3.7205e-02],\n",
       "          [-2.7906e-02, -2.6715e-02, -4.2951e-02],\n",
       "          [ 2.2266e-02, -2.1095e-02, -2.9928e-02]],\n",
       "\n",
       "         [[ 1.3680e-02,  2.5411e-02, -1.1294e-02],\n",
       "          [ 4.3585e-03, -3.0820e-02, -5.8023e-03],\n",
       "          [-4.2573e-02, -7.3253e-03,  1.9332e-02]],\n",
       "\n",
       "         ...,\n",
       "\n",
       "         [[-6.1171e-03,  4.9137e-03, -6.9265e-03],\n",
       "          [ 8.4347e-03,  2.0015e-02, -1.3653e-02],\n",
       "          [-2.0037e-02,  6.1073e-03, -1.5484e-02]],\n",
       "\n",
       "         [[-4.0838e-02,  1.5064e-02,  8.7100e-03],\n",
       "          [ 1.2752e-02,  2.6757e-02,  2.2764e-02],\n",
       "          [-1.7894e-02, -3.8575e-02, -1.2398e-02]],\n",
       "\n",
       "         [[-1.0316e-02,  3.0224e-02,  3.0439e-02],\n",
       "          [-3.5044e-02, -9.6225e-03, -1.2402e-02],\n",
       "          [ 1.5240e-02, -2.3387e-03, -2.0356e-02]]],\n",
       "\n",
       "\n",
       "        [[[-3.3024e-02,  1.7822e-03,  1.5683e-02],\n",
       "          [-2.8512e-02, -1.6244e-02,  3.1097e-02],\n",
       "          [-3.0761e-03, -2.3522e-02, -1.6761e-02]],\n",
       "\n",
       "         [[ 7.3588e-03,  3.6180e-02, -6.3875e-03],\n",
       "          [ 2.1765e-02, -2.0900e-02,  1.6126e-02],\n",
       "          [ 2.7054e-02, -2.6227e-02, -2.3519e-02]],\n",
       "\n",
       "         [[-1.7327e-02,  4.3110e-02,  1.1293e-02],\n",
       "          [ 6.7356e-03, -1.9500e-03,  3.7193e-02],\n",
       "          [-7.7157e-03, -8.4228e-03, -1.3823e-02]],\n",
       "\n",
       "         ...,\n",
       "\n",
       "         [[ 2.6340e-02, -2.4112e-02, -3.3745e-02],\n",
       "          [ 6.3528e-03, -3.6370e-02, -1.9133e-02],\n",
       "          [ 2.3031e-03,  6.1539e-03,  1.6661e-02]],\n",
       "\n",
       "         [[-2.0340e-02,  2.3312e-02,  2.4059e-02],\n",
       "          [-3.3370e-02, -6.7427e-03, -1.0534e-02],\n",
       "          [-2.7578e-02,  2.3654e-02, -2.0710e-03]],\n",
       "\n",
       "         [[-2.8971e-02, -4.0622e-02, -1.7468e-02],\n",
       "          [-3.0773e-02,  1.1268e-02, -6.4800e-03],\n",
       "          [-8.1390e-03,  2.1823e-02, -4.1043e-02]]],\n",
       "\n",
       "\n",
       "        ...,\n",
       "\n",
       "\n",
       "        [[[ 4.1798e-02,  3.3142e-02,  7.8773e-03],\n",
       "          [ 3.0887e-02,  1.3929e-02, -1.4287e-03],\n",
       "          [ 1.0797e-02,  3.6229e-02, -2.8878e-02]],\n",
       "\n",
       "         [[ 1.7388e-02, -3.6152e-03, -3.7886e-03],\n",
       "          [-3.0563e-02,  1.2313e-02, -2.4956e-02],\n",
       "          [ 1.8783e-02, -9.8003e-03,  4.0430e-02]],\n",
       "\n",
       "         [[-5.5371e-03,  3.8516e-02, -3.9180e-03],\n",
       "          [-4.4810e-02, -2.9561e-02,  2.6680e-02],\n",
       "          [ 2.3748e-02,  7.3117e-03,  5.3754e-03]],\n",
       "\n",
       "         ...,\n",
       "\n",
       "         [[-2.9428e-02, -2.6340e-02,  2.2054e-02],\n",
       "          [ 2.9730e-02, -5.8009e-03, -5.3047e-03],\n",
       "          [ 3.6084e-02, -7.5185e-03, -3.1699e-02]],\n",
       "\n",
       "         [[ 1.2368e-02,  1.5588e-02, -2.5278e-02],\n",
       "          [-1.4394e-02,  1.4115e-02,  2.2566e-02],\n",
       "          [ 1.0433e-03,  1.6786e-02,  2.3886e-02]],\n",
       "\n",
       "         [[ 4.0596e-02,  1.2328e-02, -1.7336e-02],\n",
       "          [-2.0097e-02,  2.9363e-02, -2.4195e-02],\n",
       "          [-8.4250e-03, -2.6959e-02,  5.4255e-03]]],\n",
       "\n",
       "\n",
       "        [[[ 2.7258e-02,  2.7796e-02, -1.6095e-02],\n",
       "          [-2.6054e-02,  1.3141e-02,  2.5235e-02],\n",
       "          [-7.9006e-03,  3.8223e-02,  4.3607e-02]],\n",
       "\n",
       "         [[ 1.5138e-02,  3.9561e-02,  4.1891e-02],\n",
       "          [-2.4602e-03,  1.7972e-02,  2.3584e-02],\n",
       "          [-4.1960e-02, -2.3770e-02,  1.2725e-02]],\n",
       "\n",
       "         [[ 9.2981e-03,  5.3241e-03,  1.2143e-02],\n",
       "          [-3.0065e-02,  3.3773e-02,  7.1717e-03],\n",
       "          [-1.9828e-02,  2.5148e-02, -3.4423e-02]],\n",
       "\n",
       "         ...,\n",
       "\n",
       "         [[ 3.2248e-02,  6.1538e-04, -2.2209e-02],\n",
       "          [ 2.5077e-02,  4.1875e-02, -2.2660e-02],\n",
       "          [-2.9481e-02,  3.1082e-02, -2.2682e-02]],\n",
       "\n",
       "         [[-3.4959e-02, -3.5225e-02, -2.6719e-02],\n",
       "          [ 3.5259e-02,  2.5490e-02,  4.2372e-02],\n",
       "          [-2.8054e-02, -2.4147e-02,  2.4567e-02]],\n",
       "\n",
       "         [[ 2.4805e-02,  2.7038e-03,  1.5714e-02],\n",
       "          [ 3.8899e-02, -1.6341e-02,  2.2990e-02],\n",
       "          [ 1.0451e-04,  2.6058e-02,  1.6108e-02]]],\n",
       "\n",
       "\n",
       "        [[[ 2.6657e-03,  2.1839e-02,  3.7075e-02],\n",
       "          [-1.3293e-02, -4.4909e-03, -2.2827e-02],\n",
       "          [-4.3800e-02, -9.6556e-03, -2.1198e-02]],\n",
       "\n",
       "         [[-3.5446e-03,  3.3068e-02,  4.0417e-02],\n",
       "          [ 2.1795e-02,  2.2783e-02, -1.0170e-02],\n",
       "          [-3.3479e-02,  1.0387e-02, -2.7937e-02]],\n",
       "\n",
       "         [[-1.6987e-02, -1.9597e-02, -3.3245e-02],\n",
       "          [ 2.1724e-02,  2.5638e-02, -2.3514e-02],\n",
       "          [-9.4009e-03,  1.2474e-03,  8.2479e-03]],\n",
       "\n",
       "         ...,\n",
       "\n",
       "         [[ 2.9108e-02, -6.7179e-03, -1.3704e-03],\n",
       "          [ 1.8228e-02,  4.9506e-03,  1.4639e-02],\n",
       "          [-3.3055e-02, -3.0774e-02, -2.6141e-02]],\n",
       "\n",
       "         [[-3.4515e-02,  6.6095e-03,  3.9191e-02],\n",
       "          [ 2.3768e-02, -2.7947e-02,  1.7745e-02],\n",
       "          [ 7.9634e-05,  3.0291e-02,  1.8947e-02]],\n",
       "\n",
       "         [[-3.8132e-02,  2.6203e-02,  3.2684e-02],\n",
       "          [ 2.5538e-02, -1.3153e-02, -8.3603e-03],\n",
       "          [ 2.8008e-02,  2.4966e-02,  1.9227e-02]]]], device='cuda:0')"
      ]
     },
     "execution_count": 164,
     "metadata": {},
     "output_type": "execute_result"
    }
   ],
   "source": [
    "new_model3.conv2_1.weight"
   ]
  },
  {
   "cell_type": "code",
   "execution_count": 165,
   "metadata": {},
   "outputs": [
    {
     "data": {
      "text/plain": [
       "Parameter containing:\n",
       "tensor([[-1.4840e-02, -2.6468e-02, -2.5326e-02,  ...,  3.2259e-03,\n",
       "          1.1839e-02, -7.0226e-03],\n",
       "        [ 1.2509e-02,  1.2070e-02,  1.4986e-02,  ..., -2.8877e-02,\n",
       "          1.3546e-02,  1.1703e-02],\n",
       "        [-2.1009e-02, -3.5923e-02, -2.1500e-02,  ...,  1.0603e-02,\n",
       "          3.4309e-03,  3.6793e-03],\n",
       "        ...,\n",
       "        [-3.8068e-03,  1.3182e-02,  2.8409e-03,  ...,  1.0496e-02,\n",
       "         -9.5307e-03,  8.7829e-03],\n",
       "        [ 7.4267e-03, -2.7958e-03,  6.6207e-05,  ..., -1.3116e-02,\n",
       "          1.8094e-02, -9.1179e-03],\n",
       "        [ 1.0495e-02,  6.7059e-03, -1.1667e-03,  ...,  3.6929e-03,\n",
       "          8.8386e-03,  1.8029e-02]], device='cuda:0', requires_grad=True)"
      ]
     },
     "execution_count": 165,
     "metadata": {},
     "output_type": "execute_result"
    }
   ],
   "source": [
    "new_model3.fc1.weight"
   ]
  },
  {
   "cell_type": "markdown",
   "metadata": {},
   "source": [
    "#### for test all and plot test curve"
   ]
  },
  {
   "cell_type": "code",
   "execution_count": null,
   "metadata": {},
   "outputs": [],
   "source": [
    "run(B_train_dl , test_all, new_model3, index=155, epochs=20, lr=0.0001, cm=True, freeze_fc=True, dir=\"CM3\")"
   ]
  }
 ],
 "metadata": {
  "kernelspec": {
   "display_name": "Python 3",
   "language": "python",
   "name": "python3"
  },
  "language_info": {
   "codemirror_mode": {
    "name": "ipython",
    "version": 3
   },
   "file_extension": ".py",
   "mimetype": "text/x-python",
   "name": "python",
   "nbconvert_exporter": "python",
   "pygments_lexer": "ipython3",
   "version": "3.10.12"
  }
 },
 "nbformat": 4,
 "nbformat_minor": 2
}
